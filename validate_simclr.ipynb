{
 "cells": [
  {
   "cell_type": "code",
   "execution_count": 33,
   "metadata": {},
   "outputs": [],
   "source": [
    "import os\n",
    "\n",
    "import numpy as np\n",
    "\n",
    "import torch\n",
    "import torch.nn as nn\n",
    "import torchvision\n",
    "\n",
    "from simclr import SimClrBackbone"
   ]
  },
  {
   "cell_type": "code",
   "execution_count": 34,
   "metadata": {},
   "outputs": [],
   "source": [
    "device = \"cuda\""
   ]
  },
  {
   "cell_type": "code",
   "execution_count": 36,
   "metadata": {},
   "outputs": [],
   "source": [
    "def load_simclr(simclr_model_name: str) -> SimClrBackbone:\n",
    "    model = SimClrBackbone()\n",
    "    out = os.path.join('./saved_models/', simclr_model_name)\n",
    "    checkpoint = torch.load(out, map_location=device)\n",
    "    model.load_state_dict(checkpoint[\"model_state_dict\"])\n",
    "    model = model.to(device)\n",
    "    model.eval()\n",
    "    return model"
   ]
  },
  {
   "cell_type": "code",
   "execution_count": 60,
   "metadata": {},
   "outputs": [],
   "source": [
    "from torch.utils.data import DataLoader\n",
    "from torchvision import transforms\n",
    "\n",
    "device = \"cuda\"\n",
    "\n",
    "transform_train= transforms.Compose([\n",
    "    transforms.RandomCrop(32, padding=4),\n",
    "    transforms.RandomHorizontalFlip(),\n",
    "    transforms.ToTensor(),\n",
    "    transforms.Normalize((0.4914, 0.4822, 0.4465), (0.2023, 0.1994, 0.2010)),\n",
    "])\n",
    "\n",
    "transform_test = transforms.Compose([\n",
    "    transforms.ToTensor(),\n",
    "    transforms.Normalize((0.4914, 0.4822, 0.4465), (0.2023, 0.1994, 0.2010)),\n",
    "])\n",
    "\n",
    "\n",
    "batch_size = 1024\n",
    "train_dataset = torchvision.datasets.CIFAR10(root='C:/Datasets', train=True, download=False, transform=transform_train)\n",
    "test_dataset = torchvision.datasets.CIFAR10(root='C:/Datasets', train=False, download=False, transform=transform_test)\n",
    "trainloader = DataLoader(train_dataset, batch_size=batch_size, shuffle=True, num_workers=0)\n",
    "testloader = DataLoader(test_dataset, batch_size=batch_size, shuffle=False, num_workers=0)"
   ]
  },
  {
   "cell_type": "code",
   "execution_count": 61,
   "metadata": {},
   "outputs": [],
   "source": [
    "class SimClrLR(nn.Module):\n",
    "    def __init__(self):\n",
    "        super().__init__()\n",
    "        \n",
    "        dataset_name = \"badnets\"\n",
    "        simclr_model_name = f\"{dataset_name}-SimCLR.pt\"\n",
    "        self.simclr = load_simclr(simclr_model_name)\n",
    "        \n",
    "        for p in self.simclr.parameters():\n",
    "            p.requires_grad = False\n",
    "            \n",
    "        for p in self.simclr.projector.parameters():\n",
    "            p.requires_grad = False\n",
    "        \n",
    "        self.lastlayer = nn.Linear(512, 10)\n",
    "\n",
    "    def forward(self,x):\n",
    "        out = self.simclr.pretrained(x)\n",
    "        out = self.lastlayer(out)\n",
    "        return out\n",
    "    \n",
    "model = SimClrLR().to(device)"
   ]
  },
  {
   "cell_type": "code",
   "execution_count": 62,
   "metadata": {},
   "outputs": [],
   "source": [
    "optimizer = torch.optim.SGD([params for params in model.parameters() if params.requires_grad],lr = 0.6, momentum = 0.9, weight_decay=0., nesterov=True)\n",
    "lr_scheduler = torch.optim.lr_scheduler.CosineAnnealingLR(optimizer, T_max=200)\n",
    "loss_fn = nn.CrossEntropyLoss()"
   ]
  },
  {
   "cell_type": "code",
   "execution_count": 63,
   "metadata": {},
   "outputs": [],
   "source": [
    "tr_ep_loss = []\n",
    "tr_ep_acc = []\n",
    "\n",
    "val_ep_loss = []\n",
    "val_ep_acc = []\n",
    "\n",
    "min_val_loss = 100.0\n",
    "\n",
    "EPOCHS = 10\n",
    "num_cl = 10"
   ]
  },
  {
   "cell_type": "code",
   "execution_count": 64,
   "metadata": {},
   "outputs": [
    {
     "name": "stdout",
     "output_type": "stream",
     "text": [
      "=============== Epoch :   1 ===============\n",
      "ESTIMATING TRAINING METRICS.............\n",
      "TRAINING BINARY CROSSENTROPY LOSS:  0.6500706021883049\n",
      "TRAINING BINARY ACCURACY:  0.78682\n",
      "ESTIMATING VALIDATION METRICS.............\n",
      "VALIDATION BINARY CROSSENTROPY LOSS:  0.5296879649162293\n",
      "VALIDATION BINARY ACCURACY:  0.8187\n",
      "Time Taken : 3.58 minutes\n",
      "=============== Epoch :   2 ===============\n"
     ]
    },
    {
     "ename": "KeyboardInterrupt",
     "evalue": "",
     "output_type": "error",
     "traceback": [
      "\u001b[1;31m---------------------------------------------------------------------------\u001b[0m",
      "\u001b[1;31mKeyboardInterrupt\u001b[0m                         Traceback (most recent call last)",
      "Input \u001b[1;32mIn [64]\u001b[0m, in \u001b[0;36m<cell line: 3>\u001b[1;34m()\u001b[0m\n\u001b[0;32m     24\u001b[0m tr_loss \u001b[38;5;241m=\u001b[39m loss_fn(z,y)\n\u001b[0;32m     25\u001b[0m tr_loss\u001b[38;5;241m.\u001b[39mbackward()\n\u001b[1;32m---> 27\u001b[0m preds \u001b[38;5;241m=\u001b[39m torch\u001b[38;5;241m.\u001b[39mexp(\u001b[43mz\u001b[49m\u001b[38;5;241;43m.\u001b[39;49m\u001b[43mcpu\u001b[49m\u001b[43m(\u001b[49m\u001b[43m)\u001b[49m\u001b[38;5;241m.\u001b[39mdata)\u001b[38;5;241m/\u001b[39mtorch\u001b[38;5;241m.\u001b[39msum(torch\u001b[38;5;241m.\u001b[39mexp(z\u001b[38;5;241m.\u001b[39mcpu()\u001b[38;5;241m.\u001b[39mdata))\n\u001b[0;32m     29\u001b[0m optimizer\u001b[38;5;241m.\u001b[39mstep()\n\u001b[0;32m     31\u001b[0m loss_sublist \u001b[38;5;241m=\u001b[39m np\u001b[38;5;241m.\u001b[39mappend(loss_sublist, tr_loss\u001b[38;5;241m.\u001b[39mcpu()\u001b[38;5;241m.\u001b[39mdata)\n",
      "\u001b[1;31mKeyboardInterrupt\u001b[0m: "
     ]
    }
   ],
   "source": [
    "import time\n",
    "\n",
    "for epoch in range(20):\n",
    "    \n",
    "    stime = time.time()\n",
    "    print(\"=============== Epoch : %3d ===============\"%(epoch+1))\n",
    "    \n",
    "    loss_sublist = np.array([])\n",
    "    acc_sublist = np.array([])\n",
    "    \n",
    "    #iter_num = 0\n",
    "    model.train()\n",
    "    \n",
    "    optimizer.zero_grad()\n",
    "    \n",
    "    for x,y in trainloader:\n",
    "        x = x.squeeze().to(device, dtype = torch.float)\n",
    "        y = y.to(device)\n",
    "        \n",
    "        z = model(x)\n",
    "        \n",
    "        optimizer.zero_grad()\n",
    "        \n",
    "        tr_loss = loss_fn(z,y)\n",
    "        tr_loss.backward()\n",
    "\n",
    "        preds = torch.exp(z.cpu().data)/torch.sum(torch.exp(z.cpu().data))\n",
    "        \n",
    "        optimizer.step()\n",
    "        \n",
    "        loss_sublist = np.append(loss_sublist, tr_loss.cpu().data)\n",
    "        acc_sublist = np.append(acc_sublist,np.array(np.argmax(preds,axis=1)==y.cpu().data.view(-1)).astype('int'),axis=0)\n",
    "        \n",
    "    print('ESTIMATING TRAINING METRICS.............')\n",
    "    \n",
    "    print('TRAINING BINARY CROSSENTROPY LOSS: ',np.mean(loss_sublist))\n",
    "    print('TRAINING BINARY ACCURACY: ',np.mean(acc_sublist))\n",
    "    \n",
    "    tr_ep_loss.append(np.mean(loss_sublist))\n",
    "    tr_ep_acc.append(np.mean(acc_sublist))\n",
    "    \n",
    "    print('ESTIMATING VALIDATION METRICS.............')\n",
    "    \n",
    "    model.eval()\n",
    "    \n",
    "    loss_sublist = np.array([])\n",
    "    acc_sublist = np.array([])\n",
    "    \n",
    "    with torch.no_grad():\n",
    "        for x,y in testloader:\n",
    "            x = x.squeeze().to(device = 'cuda:0', dtype = torch.float)\n",
    "            y = y.to(device = 'cuda:0')\n",
    "            z = model(x)\n",
    "\n",
    "            val_loss = loss_fn(z,y)\n",
    "\n",
    "            preds = torch.exp(z.cpu().data)/torch.sum(torch.exp(z.cpu().data))\n",
    "\n",
    "            loss_sublist = np.append(loss_sublist, val_loss.cpu().data)\n",
    "            acc_sublist = np.append(acc_sublist,np.array(np.argmax(preds,axis=1)==y.cpu().data.view(-1)).astype('int'),axis=0)\n",
    "    \n",
    "    print('VALIDATION BINARY CROSSENTROPY LOSS: ',np.mean(loss_sublist))\n",
    "    print('VALIDATION BINARY ACCURACY: ',np.mean(acc_sublist))\n",
    "    \n",
    "    val_ep_loss.append(np.mean(loss_sublist))\n",
    "    val_ep_acc.append(np.mean(acc_sublist))\n",
    "    \n",
    "    lr_scheduler.step()\n",
    "    \n",
    "    print(\"Time Taken : %.2f minutes\"%((time.time()-stime)/60.0))"
   ]
  }
 ],
 "metadata": {
  "kernelspec": {
   "display_name": "Python 3",
   "language": "python",
   "name": "python3"
  },
  "language_info": {
   "codemirror_mode": {
    "name": "ipython",
    "version": 3
   },
   "file_extension": ".py",
   "mimetype": "text/x-python",
   "name": "python",
   "nbconvert_exporter": "python",
   "pygments_lexer": "ipython3",
   "version": "3.11.4"
  }
 },
 "nbformat": 4,
 "nbformat_minor": 2
}
