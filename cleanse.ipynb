{
 "cells": [
  {
   "cell_type": "code",
   "execution_count": 109,
   "metadata": {},
   "outputs": [],
   "source": [
    "import os\n",
    "\n",
    "from math import ceil, floor\n",
    "\n",
    "import copy\n",
    "\n",
    "import pickle\n",
    "\n",
    "import numpy as np\n",
    "\n",
    "from matplotlib import pyplot as plt\n",
    "\n",
    "import torch\n",
    "import torch.nn as nn\n",
    "import torchvision\n",
    "from torch.utils.data import DataLoader\n",
    "from torchvision.datasets.vision import VisionDataset\n",
    "\n",
    "from tqdm import tqdm\n",
    "\n",
    "from sklearn.manifold import TSNE\n",
    "\n",
    "from datasets import BadNetsDataset, WaNetDataset, SIGDataset\n",
    "from simclr import SimClrBackbone"
   ]
  },
  {
   "cell_type": "code",
   "execution_count": 110,
   "metadata": {},
   "outputs": [],
   "source": [
    "device = \"cuda\""
   ]
  },
  {
   "cell_type": "markdown",
   "metadata": {},
   "source": [
    "### Poison dataset"
   ]
  },
  {
   "cell_type": "code",
   "execution_count": 111,
   "metadata": {},
   "outputs": [],
   "source": [
    "def prepare_poison_dataset(dataset_name: str, train: bool) -> VisionDataset:\n",
    "    clean_dataset = torchvision.datasets.CIFAR10(root='C:/Datasets', train=train)\n",
    "\n",
    "    if dataset_name == \"badnets\":\n",
    "        poison_dataset = BadNetsDataset(clean_dataset, 1, \"triggers/trigger_10.png\", seed=1)\n",
    "    elif dataset_name == \"wanet\":\n",
    "        poison_dataset = WaNetDataset(clean_dataset, 0, seed=1)\n",
    "    elif dataset_name == \"sig\":\n",
    "        poison_dataset = SIGDataset(clean_dataset, 1, 20, 6, seed=1)\n",
    "    else:\n",
    "        raise Exception(\"Invalid dataset\")\n",
    "\n",
    "    poison_indices = np.array([poison_dataset.is_poison(i) for i in range(len(poison_dataset))])\n",
    "\n",
    "    return poison_dataset, poison_indices"
   ]
  },
  {
   "cell_type": "markdown",
   "metadata": {},
   "source": [
    "### Load SimCLR model"
   ]
  },
  {
   "cell_type": "code",
   "execution_count": 112,
   "metadata": {},
   "outputs": [],
   "source": [
    "def load_simclr(simclr_model_name: str) -> SimClrBackbone:\n",
    "    model = SimClrBackbone()\n",
    "    out = os.path.join('./saved_models/', simclr_model_name)\n",
    "    checkpoint = torch.load(out, map_location=device)\n",
    "    model.load_state_dict(checkpoint[\"model_state_dict\"])\n",
    "    model = model.to(device)\n",
    "    model.eval()\n",
    "    return model"
   ]
  },
  {
   "cell_type": "markdown",
   "metadata": {},
   "source": [
    "### Extract SimCLR features for all images"
   ]
  },
  {
   "cell_type": "code",
   "execution_count": 113,
   "metadata": {},
   "outputs": [],
   "source": [
    "def extract_simclr_features(model: SimClrBackbone, dataset: VisionDataset):\n",
    "\n",
    "    simclr_feature_size = 128\n",
    "    num_examples = len(dataset)\n",
    "\n",
    "    features = np.zeros((num_examples, simclr_feature_size))\n",
    "    labels_poison = np.zeros((num_examples))\n",
    "    labels_true = np.zeros((num_examples))\n",
    "\n",
    "    batch_size = 256\n",
    "    dataloader = DataLoader(dataset, batch_size=batch_size, shuffle=False, num_workers=0)\n",
    "    for i, (img, labels_batch_poison, labels_batch_true) in enumerate(dataloader):\n",
    "\n",
    "        with torch.no_grad():\n",
    "            features_batch = model(img.to(device)).cpu().data.numpy()\n",
    "            \n",
    "        features[i*batch_size : i*batch_size+len(features_batch)] = features_batch\n",
    "        labels_poison[i*batch_size : i*batch_size+len(labels_batch_poison)] = labels_batch_poison.long()\n",
    "        labels_true[i*batch_size : i*batch_size+len(labels_batch_true)] = labels_batch_true.long()\n",
    "\n",
    "    labels_poison = labels_poison.astype(int)\n",
    "    labels_true = labels_true.astype(int)\n",
    "\n",
    "    return features, labels_poison, labels_true"
   ]
  },
  {
   "cell_type": "markdown",
   "metadata": {},
   "source": [
    "### Plot t-SNE features"
   ]
  },
  {
   "cell_type": "code",
   "execution_count": 114,
   "metadata": {},
   "outputs": [],
   "source": [
    "def calculate_tsne_features(features: np.array, perplexity: int = 50) -> np.array:\n",
    "    tsne = TSNE(n_components = 2, perplexity = perplexity)\n",
    "    tsne_features = tsne.fit_transform(features)\n",
    "    return tsne_features\n",
    "\n",
    "def plot_tsne_features(tsne_features: np.array, labels: np.array, poison_indices: np.array, legend: bool = True) -> None:\n",
    "    num_classes = int(max(labels).item())\n",
    "\n",
    "    # label poison examples as 10\n",
    "    labels_10 = copy.deepcopy(labels)\n",
    "    labels_10[poison_indices] = 10\n",
    "\n",
    "    for i in range(num_classes):\n",
    "        plt.scatter(tsne_features[labels_10==i,1], tsne_features[labels_10==i,0])\n",
    "    plt.scatter(tsne_features[labels_10==10,1], tsne_features[labels_10==10,0], c = \"black\", marker= \"x\")\n",
    "\n",
    "    if legend:\n",
    "        plt.legend([str(i) for i in range(num_classes)] + [\"poison\"])\n",
    "    plt.show()\n",
    "\n",
    "\n",
    "def calculate_and_plot_tsne(features: np.array, labels: np.array, poison_indices: np.array, subset_size: int = None, legend: bool = True) -> np.array:\n",
    "    # Plot only a subset\n",
    "    if subset_size is None:\n",
    "        subset_size = len(features)\n",
    "    features_subset = features[:subset_size]\n",
    "    labels_subset = labels[:subset_size]\n",
    "    poison_indices_subset = poison_indices[:subset_size]\n",
    "    \n",
    "    tsne_features = calculate_tsne_features(features_subset)\n",
    "    plot_tsne_features(tsne_features, labels_subset, poison_indices_subset, legend=legend)\n",
    "    \n"
   ]
  },
  {
   "cell_type": "markdown",
   "metadata": {},
   "source": [
    "### Util functions for all cleanses"
   ]
  },
  {
   "cell_type": "code",
   "execution_count": 115,
   "metadata": {},
   "outputs": [],
   "source": [
    "def evaluate_cleanse(poison_predicted: np.array, poison_indices: np.array):\n",
    "\n",
    "    tp = (poison_indices & poison_predicted).sum()\n",
    "    fp = (np.invert(poison_indices) & poison_predicted).sum()\n",
    "    fn = (poison_indices & np.invert(poison_predicted)).sum()\n",
    "    tn = (np.invert(poison_indices) & np.invert(poison_predicted)).sum()\n",
    "\n",
    "    fnr = fn/(fn+tp) if fn+tp!=0 else 0\n",
    "    tnr = tn/(tn+fp) if tn+fp!=0 else 0\n",
    "    poison_rate = fn/(fn+tn) if fn+tn!=0 else 0\n",
    "\n",
    "    print(f\"{tp} \\t {fp}\")\n",
    "    print(f\"{fn} \\t {tn}\")\n",
    "    print(f\"Percentage of poisoned images (out of all poisoned) kept: {100*fnr: .2f}%\")\n",
    "    print(f\"Percentage of clean images (out of all clean) kept: {100*tnr: .2f}%\")\n",
    "    print(f\"Percentage of remaining poisoned images (out of all remaining): {100*poison_rate: .2f}%\")"
   ]
  },
  {
   "cell_type": "code",
   "execution_count": 116,
   "metadata": {},
   "outputs": [],
   "source": [
    "def save_predicted_labels(labels_predicted: np.array, save_name: str):\n",
    "    with open(f\"./cleansed_labels/{save_name}.pkl\", \"wb\") as f:\n",
    "        pickle.dump(labels_predicted, f)"
   ]
  },
  {
   "cell_type": "code",
   "execution_count": 117,
   "metadata": {},
   "outputs": [],
   "source": [
    "def plot_histogram_poisoned(values: np.array, poison_indices: np.array = None, is_integer: bool = False, bins_num: int = 100, separation_line: float = None) -> None:\n",
    "    if poison_indices is not None:\n",
    "        values_clean = values[np.invert(poison_indices)]\n",
    "        values_poisoned = values[poison_indices]\n",
    "    else:\n",
    "        values_clean = values[:]\n",
    "        values_poisoned = []\n",
    "\n",
    "    bins = np.linspace(floor(np.min(values)), ceil(np.max(values)), int(np.max(values)) if is_integer else bins_num)\n",
    "    plt.hist(values_clean, bins, alpha=0.5, label='clean')\n",
    "    plt.hist(values_poisoned, bins, alpha=0.5, label='poisoned')\n",
    "\n",
    "    if separation_line:\n",
    "        plt.axvline(separation_line, color='red', linestyle='dashed', linewidth=1)\n",
    "\n",
    "    plt.legend(loc='upper right')\n",
    "    plt.show()"
   ]
  },
  {
   "cell_type": "markdown",
   "metadata": {},
   "source": [
    "## Step 1: Non-disruptive cleanse"
   ]
  },
  {
   "cell_type": "markdown",
   "metadata": {},
   "source": [
    "### kNN"
   ]
  },
  {
   "cell_type": "code",
   "execution_count": 118,
   "metadata": {},
   "outputs": [],
   "source": [
    "from sklearn.neighbors import KNeighborsClassifier\n",
    "\n",
    "def knn_cleanse(features: np.array, labels_poison: np.array, num_classes: int) -> np.array:\n",
    "    \n",
    "    examples_per_class = len(features) / num_classes\n",
    "    knn = KNeighborsClassifier(n_neighbors=int(examples_per_class/2))\n",
    "    knn.fit(features, labels_poison)\n",
    "    labels_predicted = knn.predict(features)\n",
    "\n",
    "    return labels_predicted != labels_poison"
   ]
  },
  {
   "cell_type": "markdown",
   "metadata": {},
   "source": [
    "------------------------------------\n",
    "\n",
    "CIFAR-10 train \\\n",
    "BadNets \n",
    "\n",
    "    4905 \t 9481\n",
    "    95 \t 35519\n",
    "    Percentage of poisoned images (out of all poisoned) kept:  1.90%\n",
    "    Percentage of clean images (out of all clean) kept:  78.93%\n",
    "    Percentage of remaining poisoned images (out of all remaining):  0.27%\n",
    "\n",
    "CIFAR-10 test \\\n",
    "BadNets \n",
    "\n",
    "    960 \t 2056\n",
    "    40 \t 6944\n",
    "    Percentage of poisoned images (out of all poisoned) kept:  4.00%\n",
    "    Percentage of clean images (out of all clean) kept:  77.16%\n",
    "    Percentage of remaining poisoned images (out of all remaining):  0.57%\n",
    "\n",
    "------------------------------------\n",
    "\n",
    "CIFAR-10 train \\\n",
    "WaNet \n",
    "\n",
    "    3975 \t 14331\n",
    "    1025 \t 30669\n",
    "    Percentage of poisoned images (out of all poisoned) kept:  20.50%\n",
    "    Percentage of clean images (out of all clean) kept:  68.15%\n",
    "    Percentage of remaining poisoned images (out of all remaining):  3.23%\n",
    "\n",
    "CIFAR-10 test \\\n",
    "WaNet \n",
    "\n",
    "    712 \t 3058\n",
    "    288 \t 5942\n",
    "    Percentage of poisoned images (out of all poisoned) kept:  28.80%\n",
    "    Percentage of clean images (out of all clean) kept:  66.02%\n",
    "    Percentage of remaining poisoned images (out of all remaining):  4.62%\n",
    "\n",
    "------------------------------------\n",
    "\n",
    "CIFAR-10 train \\\n",
    "SIG\n",
    "\n",
    "    0 \t 9195\n",
    "    500 \t 40305\n",
    "    Percentage of poisoned images (out of all poisoned) kept:  100.00%\n",
    "    Percentage of clean images (out of all clean) kept:  81.42%\n",
    "    Percentage of remaining poisoned images (out of all remaining):  1.23%\n",
    "\n",
    "CIFAR-10 test \\\n",
    "SIG\n",
    "\n",
    "    0 \t 2179\n",
    "    100 \t 7721\n",
    "    Percentage of poisoned images (out of all poisoned) kept:  100.00%\n",
    "    Percentage of clean images (out of all clean) kept:  77.99%\n",
    "    Percentage of remaining poisoned images (out of all remaining):  1.28%\n"
   ]
  },
  {
   "cell_type": "markdown",
   "metadata": {},
   "source": [
    "### Energy"
   ]
  },
  {
   "cell_type": "code",
   "execution_count": 119,
   "metadata": {},
   "outputs": [],
   "source": [
    "class EnergyClassifier():\n",
    "\n",
    "    def __init__(self, t=1):\n",
    "        self.t = t\n",
    "\n",
    "    def fit(self, X, y):\n",
    "        self.X = X\n",
    "        self.y = y\n",
    "        \n",
    "        self.C = int(np.max(y))\n",
    "        self.Ic = {c:[i for i in range(len(y)) if y[i]==c] for c in range(self.C)}\n",
    "        \n",
    "    def predict_index(self, i):\n",
    "        # consider improving with numpy and batch\n",
    "\n",
    "        xi = self.X[i]\n",
    "\n",
    "        exp_all = np.exp([xi*self.X[k]/self.t for k in range(len(self.X))])\n",
    "        sum_exp_all_except_xi = np.sum([exp_all[k] for k in range(len(self.X)) if k!=i])\n",
    "        mean_exp_c = [np.mean([exp_all[k] for k in self.Ic[c] if k!=i]) for c in range(self.C)]\n",
    "    \n",
    "        Scs = mean_exp_c / sum_exp_all_except_xi\n",
    "        return np.argmax(Scs)\n",
    "\n",
    "    def predict(self):\n",
    "        predicted = np.zeros((len(self.X)))\n",
    "        for i in tqdm(range(len(self.X))):\n",
    "            predicted[i] = self.predict_index(i)\n",
    "        return predicted"
   ]
  },
  {
   "cell_type": "code",
   "execution_count": 120,
   "metadata": {},
   "outputs": [],
   "source": [
    "def energy_cleanse(features: np.array, labels_poison: np.array, t: float = 10) -> np.array:\n",
    "    \n",
    "    # if DATASET == \"badnets\":\n",
    "    #     T = 100\n",
    "    # elif DATASET == \"wanet\":\n",
    "    #     T = 10\n",
    "    # elif DATASET == \"sig\":\n",
    "    #     T = 1\n",
    "    # else:\n",
    "    #     raise Exception(\"Invalid dataset\")\n",
    "\n",
    "    energy = EnergyClassifier(t=t)\n",
    "    energy.fit(features, labels_poison)\n",
    "    labels_predicted = energy.predict()\n",
    "\n",
    "    return labels_predicted != labels_poison\n",
    "\n",
    "# if RUN_ENERGY:\n",
    "#     labels_predicted_energy = energy_cleanse(features, labels_poison)\n",
    "#     evaluate_cleanse(labels_predicted_energy != labels_poison, poison_indices)\n",
    "\n",
    "#     save_name = f\"__NEW__{DATASET_NAME}-Energy-{'train' if TRAIN else 'test'}\"\n",
    "#     save_predicted_labels(labels_predicted_knn, save_name)"
   ]
  },
  {
   "cell_type": "markdown",
   "metadata": {},
   "source": [
    "CIFAR-10 train \\\n",
    "BadNets\n",
    "\n",
    "\t50000 / 50000\n",
    "\t\t4618 \t 12732\n",
    "\t\t382 \t 32268\n",
    "\tPercentage of poisoned images (out of all poisoned) kept:  7.64%\n",
    "\tPercentage of clean images (out of all clean) kept:  71.71%\n",
    "\tPercentage of remaining poisoned images (out of all remaining):  1.17%\n",
    "\n",
    "CIFAR-10 test \\\n",
    "BadNets\n",
    "\n",
    "\t10000 / 10000\n",
    "\t\t920 \t 2585\n",
    "\t\t80 \t 6415\n",
    "\tPercentage of poisoned images (out of all poisoned) kept:  8.00%\n",
    "\tPercentage of clean images (out of all clean) kept:  71.28%\n",
    "\tPercentage of remaining poisoned images (out of all remaining):  1.23%\n",
    "\n",
    "--------------------------------------------------------------------------------\n",
    "\n",
    "CIFAR-10 train \\\n",
    "WaNet\n",
    "\n",
    "\t50000 / 50000\n",
    "\t\t4725 \t 14096\n",
    "\t\t275 \t 30904\n",
    "\tPercentage of poisoned images (out of all poisoned) kept:  5.50%\n",
    "\tPercentage of clean images (out of all clean) kept:  68.68%\n",
    "\tPercentage of remaining poisoned images (out of all remaining):  0.88%\n",
    "\n",
    "CIFAR-10 test \\\n",
    "WaNet\n",
    "\n",
    "\t10000 / 10000\n",
    "\t\t951 \t 2851\n",
    "\t\t49 \t 6149\n",
    "\tPercentage of poisoned images (out of all poisoned) kept:  4.90%\n",
    "\tPercentage of clean images (out of all clean) kept:  68.32%\n",
    "\tPercentage of remaining poisoned images (out of all remaining):  0.79%\n",
    "\n",
    "--------------------------------------------------------------------------------\n",
    "\n",
    "CIFAR-10 train \\\n",
    "SIG\n",
    "\n",
    "\t50000 / 50000\n",
    "\t\t2 \t 15777\n",
    "\t\t498 \t 33723\n",
    "\tPercentage of poisoned images (out of all poisoned) kept:  99.60%\n",
    "\tPercentage of clean images (out of all clean) kept:  68.13%\n",
    "\tPercentage of remaining poisoned images (out of all remaining):  1.46%"
   ]
  },
  {
   "cell_type": "markdown",
   "metadata": {},
   "source": [
    "### LogReg "
   ]
  },
  {
   "cell_type": "code",
   "execution_count": 121,
   "metadata": {},
   "outputs": [],
   "source": [
    "# TODO cleanup, delete?"
   ]
  },
  {
   "cell_type": "code",
   "execution_count": 122,
   "metadata": {},
   "outputs": [],
   "source": [
    "class LogReg(nn.Module):\n",
    "    def __init__(self, n_inputs, n_outputs):\n",
    "        super(LogReg, self).__init__()\n",
    "        self.linear = torch.nn.Linear(n_inputs, n_outputs)\n",
    "    def forward(self, x):\n",
    "        return torch.softmax(self.linear(x), dim=1)"
   ]
  },
  {
   "cell_type": "code",
   "execution_count": 123,
   "metadata": {},
   "outputs": [],
   "source": [
    "class SimClrFeaturesDataset(VisionDataset):\n",
    "    def __init__(self, features, labels):\n",
    "        self.features = features\n",
    "        self.labels = labels\n",
    "    def __getitem__(self, index):\n",
    "        return self.features[index], self.labels[index]\n",
    "    def __len__(self):\n",
    "        return len(self.features)"
   ]
  },
  {
   "cell_type": "code",
   "execution_count": 124,
   "metadata": {},
   "outputs": [],
   "source": [
    "# if RUN_LOGREG:\n",
    "    \n",
    "#     BATCH_SIZE = 1024\n",
    "#     NUM_MODELS = 10\n",
    "#     EPOCHS = 60\n",
    "\n",
    "#     classifications = np.zeros((NUM_MODELS, len(features)))\n",
    "\n",
    "#     for num_model in range(NUM_MODELS):\n",
    "#         print(f\"Learning logistic regression model {num_model+1}/{NUM_MODELS}\")\n",
    "#         simclr_features_dataset = SimClrFeaturesDataset(features, labels_poison)\n",
    "#         dataloader = DataLoader(dataset=simclr_features_dataset, batch_size=BATCH_SIZE, shuffle=True) \n",
    "#         model = LogReg(128, 10)\n",
    "#         optimizer = torch.optim.SGD(model.parameters(), lr=0.01, weight_decay=1e-1)\n",
    "#         criterion = torch.nn.CrossEntropyLoss()\n",
    "        \n",
    "#         # train\n",
    "#         for epoch in range(EPOCHS):\n",
    "#             correct = 0\n",
    "#             for i, (batch_features, batch_labels) in enumerate(dataloader):\n",
    "#                 batch_features, batch_labels = batch_features.float(), batch_labels.long()\n",
    "\n",
    "#                 optimizer.zero_grad()\n",
    "#                 outputs = model(batch_features)\n",
    "#                 loss = criterion(outputs, batch_labels)\n",
    "#                 loss.backward()\n",
    "#                 optimizer.step()\n",
    "#                 _, predicted = torch.max(outputs.data, 1)\n",
    "#                 correct += (predicted == batch_labels).sum()\n",
    "#             accuracy = 100 * (correct.item()) / len(simclr_features_dataset)\n",
    "#         print(f\"Accuracy: {accuracy}\")\n",
    "\n",
    "#         # get model classifications\n",
    "#         dataloader = DataLoader(dataset=simclr_features_dataset, batch_size=BATCH_SIZE, shuffle=False) \n",
    "#         for i, (batch_features, batch_labels) in enumerate(dataloader):\n",
    "#             batch_features, batch_labels = batch_features.float(), batch_labels.long()\n",
    "\n",
    "#             outputs = model(batch_features)\n",
    "#             _, predicted = torch.max(outputs.data, 1)\n",
    "#             predicted = predicted.numpy()\n",
    "#             classifications[num_model, (i*BATCH_SIZE):(i*BATCH_SIZE+len(predicted))] = predicted\n"
   ]
  },
  {
   "cell_type": "code",
   "execution_count": 125,
   "metadata": {},
   "outputs": [],
   "source": [
    "# if RUN_LOGREG:\n",
    "\n",
    "#     labels_poison_repeated = np.tile(labels_poison, (NUM_MODELS,1))\n",
    "#     misclassifications = np.sum(classifications != labels_poison_repeated, axis=0)\n",
    "\n",
    "#     misclassifications_poisoned = misclassifications[poison_indices]\n",
    "#     misclassifications_clean = misclassifications[np.invert(poison_indices)]\n",
    "\n",
    "#     # print(misclassifications_poisoned.shape)\n",
    "#     # print(misclassifications_clean.shape)\n",
    "\n",
    "#     # print(np.average(misclassifications_poisoned))\n",
    "#     # print(np.average(misclassifications_clean))\n",
    "\n",
    "#     bins = np.linspace(0, np.max(misclassifications), np.max(misclassifications))\n",
    "#     plt.hist(misclassifications_clean, bins, alpha=0.5, label='clean')\n",
    "#     plt.hist(misclassifications_poisoned, bins, alpha=0.5, label='poisoned')\n",
    "#     plt.legend(loc='upper right')\n",
    "#     plt.show()"
   ]
  },
  {
   "cell_type": "code",
   "execution_count": 126,
   "metadata": {},
   "outputs": [],
   "source": [
    "# if RUN_LOGREG:\n",
    "\n",
    "#     class_num = 1\n",
    "\n",
    "#     misclassifications_class = misclassifications[labels_poison == class_num]\n",
    "#     misclassifications_class_poisoned = misclassifications[np.logical_and(labels_poison == class_num, poison_indices)]\n",
    "#     misclassifications_class_clean = misclassifications[np.logical_and(labels_poison == class_num, np.invert(poison_indices))]\n",
    "\n",
    "#     print((labels_poison == class_num & np.invert(poison_indices)).shape)\n",
    "#     print(misclassifications_class.shape)\n",
    "#     print(misclassifications_class_poisoned.shape)\n",
    "#     print(misclassifications_class_clean.shape)\n",
    "\n",
    "#     bins = np.linspace(0, np.max(misclassifications_class), np.max(misclassifications_class))\n",
    "#     plt.hist(misclassifications_class_clean, bins, alpha=0.5, label='clean')\n",
    "#     plt.hist(misclassifications_class_poisoned, bins, alpha=0.5, label='poisoned')\n",
    "#     plt.legend(loc='upper right')\n",
    "#     plt.show()"
   ]
  },
  {
   "cell_type": "markdown",
   "metadata": {},
   "source": [
    "## Disruptive detection"
   ]
  },
  {
   "cell_type": "markdown",
   "metadata": {},
   "source": [
    "### Centroid"
   ]
  },
  {
   "cell_type": "code",
   "execution_count": 127,
   "metadata": {},
   "outputs": [],
   "source": [
    "def centroid_cleanse(features: np.array, poison_indices: np.array) -> np.array:\n",
    "    centroid = np.sum(features, axis=0) / features.shape[0]\n",
    "    distances = np.linalg.norm(features - centroid, axis=1)\n",
    "    \n",
    "    plot_histogram_poisoned(distances, poison_indices)"
   ]
  },
  {
   "cell_type": "markdown",
   "metadata": {},
   "source": [
    "### Gauss "
   ]
  },
  {
   "cell_type": "code",
   "execution_count": 128,
   "metadata": {},
   "outputs": [],
   "source": [
    "from scipy.stats import multivariate_normal\n",
    "\n",
    "def gauss_cleanse(features: np.array, discard_percentage: float, poison_indices: np.array = None) -> np.array:\n",
    "    mean = np.mean(features, axis=0)\n",
    "    cov = np.cov(features, rowvar=0)\n",
    "\n",
    "    probabilities = multivariate_normal.pdf(features, mean=mean, cov=cov, allow_singular=True)\n",
    "    probabilities[probabilities <= 0] = 1e-100\n",
    "    probabilities = -np.log(probabilities)\n",
    "\n",
    "    discard_line = np.percentile(probabilities, (1-discard_percentage)*100)\n",
    "    plot_histogram_poisoned(probabilities, poison_indices, separation_line=discard_line)\n",
    "\n",
    "    predicted_poison_indices = probabilities > discard_line\n",
    "    return predicted_poison_indices"
   ]
  },
  {
   "cell_type": "markdown",
   "metadata": {},
   "source": [
    "## Poison reclassification"
   ]
  },
  {
   "cell_type": "markdown",
   "metadata": {},
   "source": [
    "### Weak binary classifier "
   ]
  },
  {
   "cell_type": "code",
   "execution_count": 129,
   "metadata": {},
   "outputs": [],
   "source": [
    "class PoisonClassificationDataset(VisionDataset):\n",
    "\n",
    "    def __init__(self, original_dataset: VisionDataset, poison_indices: np.array) -> None:\n",
    "        self.original_dataset = original_dataset\n",
    "        self.poison_indices = poison_indices\n",
    "\n",
    "    def __len__(self) -> int:\n",
    "        return len(self.original_dataset)\n",
    "    \n",
    "    def __getitem__(self, index: int):\n",
    "        return self.original_dataset[index][0], torch.tensor(self.poison_indices[index])"
   ]
  },
  {
   "cell_type": "code",
   "execution_count": 130,
   "metadata": {},
   "outputs": [],
   "source": [
    "import torch.nn as nn\n",
    "from torch.utils.data import WeightedRandomSampler\n",
    "\n",
    "class ConvolutionalBinaryClassifier(nn.Module):\n",
    "    def __init__(self):\n",
    "        super().__init__()\n",
    "        self.layers = nn.Sequential(\n",
    "            nn.Conv2d(3, 16, kernel_size=5, stride=1, padding=2, bias=True),\n",
    "            nn.ReLU(),\n",
    "            nn.MaxPool2d(kernel_size=3, stride=2),\n",
    "            nn.Conv2d(16, 32, kernel_size=5, stride=1, padding=2, bias=True),\n",
    "            nn.ReLU(),\n",
    "            nn.MaxPool2d(kernel_size=3, stride=2),\n",
    "            nn.Flatten(),\n",
    "            nn.Linear(1568, 256),\n",
    "            nn.ReLU(),\n",
    "            nn.Linear(256, 128),\n",
    "            nn.ReLU(),\n",
    "            nn.Linear(128, 1),\n",
    "            nn.Sigmoid()\n",
    "        )\n",
    "\n",
    "    def forward(self, x) -> torch.tensor:\n",
    "        return self.layers(x)\n",
    "\n",
    "def train_binary_classifier(dataset: VisionDataset, predicted_poison_indices: np.array) -> nn.Module:\n",
    "    poison_classification_dataset = PoisonClassificationDataset(dataset, predicted_poison_indices)\n",
    "    # sampler for class imbalance\n",
    "    positives = sum([1 for _, target in poison_classification_dataset if target==1])\n",
    "    total = len(poison_classification_dataset)\n",
    "    positive_weight = 0.5 / positives\n",
    "    negative_weight = 0.5 / (total - positives)\n",
    "    weights = [positive_weight if target==1 else negative_weight for _, target in poison_classification_dataset]\n",
    "    sampler = WeightedRandomSampler(weights, len(weights))\n",
    "\n",
    "    dataloader = DataLoader(poison_classification_dataset, batch_size=128, sampler=sampler)\n",
    "    model = ConvolutionalBinaryClassifier().to(device)\n",
    "    criterion = nn.BCELoss()\n",
    "    optimizer = torch.optim.Adam(model.parameters(), lr=3e-4, weight_decay=1e-4)\n",
    "    scheduler = torch.optim.lr_scheduler.ExponentialLR(optimizer, gamma=1-1e-4)\n",
    "    num_epochs = 10\n",
    "\n",
    "    for _ in tqdm(range(num_epochs)):\n",
    "        for _, (inputs, targets) in enumerate(dataloader):\n",
    "            inputs, targets = inputs.to(device), targets.to(device).float()\n",
    "            optimizer.zero_grad()\n",
    "            logits = model.forward(inputs).squeeze(-1)\n",
    "            loss = criterion(logits, targets)\n",
    "            loss.backward()\n",
    "            optimizer.step()\n",
    "        scheduler.step()\n",
    "\n",
    "    return model\n",
    "\n",
    "def binary_reclassification(dataset: VisionDataset, model: nn.Module):\n",
    "    predicted_poison_indices = np.zeros((len(dataset)))\n",
    "    batch_size = 128\n",
    "    dataloader = DataLoader(dataset, batch_size=batch_size, shuffle=False)\n",
    "    for i, (inputs, _, _) in enumerate(dataloader):\n",
    "        inputs = inputs.to(device)\n",
    "        with torch.no_grad():\n",
    "            logits = model.forward(inputs).squeeze(-1)\n",
    "            predictions = (logits>0.5).cpu().numpy()\n",
    "        predicted_poison_indices[i*batch_size : i*batch_size+len(predictions)] = predictions\n",
    "    return predicted_poison_indices==1\n",
    "        \n"
   ]
  },
  {
   "cell_type": "markdown",
   "metadata": {},
   "source": [
    "### Strong multiclass classifier"
   ]
  },
  {
   "cell_type": "code",
   "execution_count": 131,
   "metadata": {},
   "outputs": [],
   "source": [
    "from torchvision import transforms\n",
    "\n",
    "class CleansedDataset(VisionDataset):\n",
    "\n",
    "    def __init__(self, poison_dataset: VisionDataset, predicted_poison: np.array, transforms: torch.nn.Module = None):\n",
    "        self.data = [poison_dataset[i][0] for i in range(len(poison_dataset)) if not predicted_poison[i]]\n",
    "        self.labels = [poison_dataset[i][1] for i in range(len(poison_dataset)) if not predicted_poison[i]]\n",
    "        self.transforms = transforms\n",
    "\n",
    "    def __len__(self):\n",
    "        return len(self.data)\n",
    "    \n",
    "    def __getitem__(self, index):\n",
    "        item = self.data[index]\n",
    "        label = self.labels[index]\n",
    "\n",
    "        if self.transforms:\n",
    "            item = self.transforms(item)\n",
    "\n",
    "        return item, label"
   ]
  },
  {
   "cell_type": "code",
   "execution_count": 132,
   "metadata": {},
   "outputs": [],
   "source": [
    "import torch.nn.functional as F\n",
    "\n",
    "class BasicBlock(nn.Module):\n",
    "    expansion = 1\n",
    "\n",
    "    def __init__(self, in_planes, planes, stride=1):\n",
    "        super(BasicBlock, self).__init__()\n",
    "        self.conv1 = nn.Conv2d(\n",
    "            in_planes, planes, kernel_size=3, stride=stride, padding=1, bias=False)\n",
    "        self.bn1 = nn.BatchNorm2d(planes)\n",
    "        self.conv2 = nn.Conv2d(planes, planes, kernel_size=3,\n",
    "                               stride=1, padding=1, bias=False)\n",
    "        self.bn2 = nn.BatchNorm2d(planes)\n",
    "\n",
    "        self.shortcut = nn.Sequential()\n",
    "        if stride != 1 or in_planes != self.expansion*planes:\n",
    "            self.shortcut = nn.Sequential(\n",
    "                nn.Conv2d(in_planes, self.expansion*planes,\n",
    "                          kernel_size=1, stride=stride, bias=False),\n",
    "                nn.BatchNorm2d(self.expansion*planes)\n",
    "            )\n",
    "\n",
    "    def forward(self, x):\n",
    "        out = F.relu(self.bn1(self.conv1(x)))\n",
    "        out = self.bn2(self.conv2(out))\n",
    "        out += self.shortcut(x)\n",
    "        out = F.relu(out)\n",
    "        return out\n",
    "\n",
    "class ResNet(nn.Module):\n",
    "    def __init__(self, block, num_blocks, num_classes=10):\n",
    "        super(ResNet, self).__init__()\n",
    "        self.in_planes = 64\n",
    "\n",
    "        self.conv1 = nn.Conv2d(3, 64, kernel_size=3,\n",
    "                               stride=1, padding=1, bias=False)\n",
    "        self.bn1 = nn.BatchNorm2d(64)\n",
    "        self.layer1 = self._make_layer(block, 64, num_blocks[0], stride=1)\n",
    "        self.layer2 = self._make_layer(block, 128, num_blocks[1], stride=2)\n",
    "        self.layer3 = self._make_layer(block, 256, num_blocks[2], stride=2)\n",
    "        self.layer4 = self._make_layer(block, 512, num_blocks[3], stride=2)\n",
    "        self.linear = nn.Linear(512*block.expansion, num_classes)\n",
    "\n",
    "    def _make_layer(self, block, planes, num_blocks, stride):\n",
    "        strides = [stride] + [1]*(num_blocks-1)\n",
    "        layers = []\n",
    "        for stride in strides:\n",
    "            layers.append(block(self.in_planes, planes, stride))\n",
    "            self.in_planes = planes * block.expansion\n",
    "        return nn.Sequential(*layers)\n",
    "\n",
    "    def forward(self, x):\n",
    "        out = F.relu(self.bn1(self.conv1(x)))\n",
    "        out = self.layer1(out)\n",
    "        out = self.layer2(out)\n",
    "        out = self.layer3(out)\n",
    "        out = self.layer4(out)\n",
    "        out = F.avg_pool2d(out, 4)\n",
    "        out = out.view(out.size(0), -1)\n",
    "        out = self.linear(out)\n",
    "        return out\n",
    "\n",
    "\n",
    "def ResNet18():\n",
    "    return ResNet(BasicBlock, [2, 2, 2, 2])"
   ]
  },
  {
   "cell_type": "code",
   "execution_count": 133,
   "metadata": {},
   "outputs": [],
   "source": [
    "def train_multiclass_classifier(dataset: VisionDataset, predicted_poison_indices: np.array) -> nn.Module:\n",
    "    transform_train = transforms.Compose([\n",
    "        transforms.RandomCrop(32, padding=4),\n",
    "        transforms.RandomHorizontalFlip(),\n",
    "        transforms.Normalize((0.4914, 0.4822, 0.4465), (0.2023, 0.1994, 0.2010)),\n",
    "    ])\n",
    "\n",
    "    cleansed_dataset = CleansedDataset(dataset, predicted_poison_indices, transform_train)\n",
    "    dataloader = DataLoader(cleansed_dataset, batch_size=128, shuffle=True, num_workers=0)\n",
    "\n",
    "    model = ResNet18()\n",
    "    model.to(device)\n",
    "\n",
    "    epochs = 35\n",
    "    criterion = nn.CrossEntropyLoss()\n",
    "    optimizer = torch.optim.SGD(model.parameters(), lr=0.1, momentum=0.9, weight_decay=5e-4)\n",
    "    scheduler = torch.optim.lr_scheduler.CosineAnnealingLR(optimizer, T_max=200)\n",
    "\n",
    "    model.train()\n",
    "    for epoch in tqdm(range(epochs)):\n",
    "        train_loss = 0\n",
    "        correct = 0\n",
    "        total = 0\n",
    "        for _, (inputs, targets) in enumerate(dataloader):\n",
    "            inputs, targets = inputs.to(device), targets.to(device)\n",
    "            optimizer.zero_grad()\n",
    "            outputs = model(inputs)\n",
    "            loss = criterion(outputs, targets)\n",
    "            loss.backward()\n",
    "            optimizer.step()\n",
    "\n",
    "            train_loss += loss.item()\n",
    "            _, predicted = outputs.max(1)\n",
    "            total += targets.size(0)\n",
    "            correct += predicted.eq(targets).sum().item()\n",
    "        acc = 100.*correct/total\n",
    "        scheduler.step()\n",
    "        print(epoch, train_loss, acc)\n",
    "    model.eval()\n",
    "    return model"
   ]
  },
  {
   "cell_type": "code",
   "execution_count": 134,
   "metadata": {},
   "outputs": [],
   "source": [
    "def multiclass_reclassification(dataset: VisionDataset, model: nn.Module, true_labels: np.array):\n",
    "    transform_train = transforms.Compose([\n",
    "        transforms.RandomCrop(32, padding=4),\n",
    "        transforms.RandomHorizontalFlip(),\n",
    "        transforms.Normalize((0.4914, 0.4822, 0.4465), (0.2023, 0.1994, 0.2010)),\n",
    "    ])\n",
    "    \n",
    "    transform_dataset = CleansedDataset(dataset, np.zeros(len(dataset)), transform_train)\n",
    "    \n",
    "    predicted_labels = np.zeros((len(dataset)))\n",
    "    batch_size = 128\n",
    "    dataloader = DataLoader(transform_dataset, batch_size=batch_size, shuffle=False)\n",
    "    for i, (inputs, _) in enumerate(dataloader):\n",
    "        inputs = inputs.to(device)\n",
    "        with torch.no_grad():\n",
    "            logits = model.forward(inputs)\n",
    "            predictions = torch.argmax(logits, 1).cpu().numpy()\n",
    "        predicted_labels[i*batch_size : i*batch_size+len(predictions)] = predictions\n",
    "    return predicted_labels!=true_labels"
   ]
  },
  {
   "cell_type": "markdown",
   "metadata": {},
   "source": [
    "# Final cleanse pipeline"
   ]
  },
  {
   "cell_type": "code",
   "execution_count": 135,
   "metadata": {},
   "outputs": [
    {
     "name": "stderr",
     "output_type": "stream",
     "text": [
      "c:\\Users\\Luka\\AppData\\Local\\Programs\\Python\\Python311\\Lib\\site-packages\\torchvision\\models\\_utils.py:208: UserWarning: The parameter 'pretrained' is deprecated since 0.13 and may be removed in the future, please use 'weights' instead.\n",
      "  warnings.warn(\n",
      "c:\\Users\\Luka\\AppData\\Local\\Programs\\Python\\Python311\\Lib\\site-packages\\torchvision\\models\\_utils.py:223: UserWarning: Arguments other than a weight enum or `None` for 'weights' are deprecated since 0.13 and may be removed in the future. The current behavior is equivalent to passing `weights=ResNet18_Weights.IMAGENET1K_V1`. You can also use `weights=ResNet18_Weights.DEFAULT` to get the most up-to-date weights.\n",
      "  warnings.warn(msg)\n"
     ]
    }
   ],
   "source": [
    "device = \"cuda\"\n",
    "\n",
    "dataset_name = \"badnets\"\n",
    "\n",
    "train = True\n",
    "simclr_model_name = f\"{dataset_name}-SimCLR.pt\"\n",
    "\n",
    "dataset, true_poison_indices = prepare_poison_dataset(dataset_name, train)\n",
    "simclr = load_simclr(simclr_model_name)\n",
    "features, labels_poison, labels_true = extract_simclr_features(simclr, dataset)\n",
    "num_classes = int(max(labels_poison).item())"
   ]
  },
  {
   "cell_type": "code",
   "execution_count": 136,
   "metadata": {},
   "outputs": [],
   "source": [
    "# Hiperparameters\n",
    "\n",
    "gauss_discard = 0.005\n",
    "tsne_perplexity = len(dataset) / 100"
   ]
  },
  {
   "cell_type": "code",
   "execution_count": 137,
   "metadata": {},
   "outputs": [
    {
     "data": {
      "image/png": "[encoded data removed]",
      "text/plain": [
       "<Figure size 640x480 with 1 Axes>"
      ]
     },
     "metadata": {},
     "output_type": "display_data"
    }
   ],
   "source": [
    "tsne_features = calculate_tsne_features(features, perplexity=tsne_perplexity)\n",
    "plot_tsne_features(tsne_features, labels_poison, true_poison_indices, legend=False)"
   ]
  },
  {
   "cell_type": "code",
   "execution_count": 138,
   "metadata": {},
   "outputs": [
    {
     "name": "stderr",
     "output_type": "stream",
     "text": [
      "100%|██████████| 50000/50000 [3:45:05<00:00,  3.70it/s]  "
     ]
    },
    {
     "name": "stdout",
     "output_type": "stream",
     "text": [
      "4666 \t 15406\n",
      "334 \t 29594\n",
      "Percentage of poisoned images (out of all poisoned) kept:  6.68%\n",
      "Percentage of clean images (out of all clean) kept:  65.76%\n",
      "Percentage of remaining poisoned images (out of all remaining):  1.12%\n"
     ]
    },
    {
     "name": "stderr",
     "output_type": "stream",
     "text": [
      "\n"
     ]
    }
   ],
   "source": [
    "# Nondisruptive cleanse\n",
    "#predicted_poison_indices_nondisruptive = knn_cleanse(features, labels_poison, num_classes)\n",
    "predicted_poison_indices_nondisruptive = energy_cleanse(features, labels_poison, t=1)\n",
    "evaluate_cleanse(predicted_poison_indices_nondisruptive, true_poison_indices)"
   ]
  },
  {
   "cell_type": "code",
   "execution_count": 139,
   "metadata": {},
   "outputs": [
    {
     "data": {
      "image/png": "[encoded data removed]",
      "text/plain": [
       "<Figure size 640x480 with 1 Axes>"
      ]
     },
     "metadata": {},
     "output_type": "display_data"
    },
    {
     "name": "stdout",
     "output_type": "stream",
     "text": [
      "0 \t 250\n",
      "5000 \t 44750\n",
      "Percentage of poisoned images (out of all poisoned) kept:  100.00%\n",
      "Percentage of clean images (out of all clean) kept:  99.44%\n",
      "Percentage of remaining poisoned images (out of all remaining):  10.05%\n"
     ]
    }
   ],
   "source": [
    "# Disruptive cleanse\n",
    "predicted_poison_indices_disruptive = gauss_cleanse(tsne_features, gauss_discard, poison_indices=true_poison_indices)\n",
    "evaluate_cleanse(predicted_poison_indices_disruptive, true_poison_indices)"
   ]
  },
  {
   "cell_type": "code",
   "execution_count": 140,
   "metadata": {},
   "outputs": [
    {
     "name": "stderr",
     "output_type": "stream",
     "text": [
      "C:\\Users\\Luka\\AppData\\Local\\Temp\\ipykernel_13956\\2447615426.py:11: DeprecationWarning: In future, it will be an error for 'np.bool_' scalars to be interpreted as an index\n",
      "  return self.original_dataset[index][0], torch.tensor(self.poison_indices[index])\n",
      "100%|██████████| 10/10 [01:46<00:00, 10.67s/it]\n"
     ]
    },
    {
     "name": "stdout",
     "output_type": "stream",
     "text": [
      "2 \t 361\n",
      "4998 \t 44639\n",
      "Percentage of poisoned images (out of all poisoned) kept:  99.96%\n",
      "Percentage of clean images (out of all clean) kept:  99.20%\n",
      "Percentage of remaining poisoned images (out of all remaining):  10.07%\n"
     ]
    }
   ],
   "source": [
    "# Disruptive cleanse reclassification\n",
    "\n",
    "poison_binary_classifier_model = train_binary_classifier(dataset, predicted_poison_indices_disruptive)\n",
    "predicted_poison_indices_binary_reclassification = binary_reclassification(dataset, poison_binary_classifier_model)\n",
    "evaluate_cleanse(predicted_poison_indices_binary_reclassification, true_poison_indices)"
   ]
  },
  {
   "cell_type": "code",
   "execution_count": 141,
   "metadata": {},
   "outputs": [
    {
     "name": "stdout",
     "output_type": "stream",
     "text": [
      "4666 \t 15730\n",
      "334 \t 29270\n",
      "Percentage of poisoned images (out of all poisoned) kept:  6.68%\n",
      "Percentage of clean images (out of all clean) kept:  65.04%\n",
      "Percentage of remaining poisoned images (out of all remaining):  1.13%\n"
     ]
    }
   ],
   "source": [
    "# Combine cleanses\n",
    "\n",
    "predicted_poison_indices_final = predicted_poison_indices_nondisruptive | predicted_poison_indices_binary_reclassification\n",
    "evaluate_cleanse(predicted_poison_indices_final, true_poison_indices)"
   ]
  },
  {
   "cell_type": "code",
   "execution_count": 142,
   "metadata": {},
   "outputs": [
    {
     "name": "stderr",
     "output_type": "stream",
     "text": [
      "  3%|▎         | 1/35 [00:25<14:10, 25.01s/it]"
     ]
    },
    {
     "name": "stdout",
     "output_type": "stream",
     "text": [
      "0 547.8386431932449 25.020267531414675\n"
     ]
    },
    {
     "name": "stderr",
     "output_type": "stream",
     "text": [
      "  6%|▌         | 2/35 [00:50<13:45, 25.01s/it]"
     ]
    },
    {
     "name": "stdout",
     "output_type": "stream",
     "text": [
      "1 396.1627712249756 37.444264288609645\n"
     ]
    },
    {
     "name": "stderr",
     "output_type": "stream",
     "text": [
      "  9%|▊         | 3/35 [01:15<13:21, 25.04s/it]"
     ]
    },
    {
     "name": "stdout",
     "output_type": "stream",
     "text": [
      "2 340.91182804107666 46.36873395487096\n"
     ]
    },
    {
     "name": "stderr",
     "output_type": "stream",
     "text": [
      " 11%|█▏        | 4/35 [01:40<12:56, 25.06s/it]"
     ]
    },
    {
     "name": "stdout",
     "output_type": "stream",
     "text": [
      "3 289.8363171219826 54.41156600459397\n"
     ]
    },
    {
     "name": "stderr",
     "output_type": "stream",
     "text": [
      " 14%|█▍        | 5/35 [02:05<12:32, 25.07s/it]"
     ]
    },
    {
     "name": "stdout",
     "output_type": "stream",
     "text": [
      "4 245.89335185289383 62.06255911363329\n"
     ]
    },
    {
     "name": "stderr",
     "output_type": "stream",
     "text": [
      " 17%|█▋        | 6/35 [02:30<12:07, 25.08s/it]"
     ]
    },
    {
     "name": "stdout",
     "output_type": "stream",
     "text": [
      "5 211.9941656589508 67.78138089447371\n"
     ]
    },
    {
     "name": "stderr",
     "output_type": "stream",
     "text": [
      " 20%|██        | 7/35 [02:55<11:42, 25.09s/it]"
     ]
    },
    {
     "name": "stdout",
     "output_type": "stream",
     "text": [
      "6 179.54965430498123 73.21307931360627\n"
     ]
    },
    {
     "name": "stderr",
     "output_type": "stream",
     "text": [
      " 23%|██▎       | 8/35 [03:20<11:17, 25.09s/it]"
     ]
    },
    {
     "name": "stdout",
     "output_type": "stream",
     "text": [
      "7 158.02490159869194 76.43223888663694\n"
     ]
    },
    {
     "name": "stderr",
     "output_type": "stream",
     "text": [
      " 26%|██▌       | 9/35 [03:45<10:52, 25.10s/it]"
     ]
    },
    {
     "name": "stdout",
     "output_type": "stream",
     "text": [
      "8 139.77386114001274 79.03323875152006\n"
     ]
    },
    {
     "name": "stderr",
     "output_type": "stream",
     "text": [
      " 29%|██▊       | 10/35 [04:10<10:27, 25.10s/it]"
     ]
    },
    {
     "name": "stdout",
     "output_type": "stream",
     "text": [
      "9 119.52748030424118 82.11728144845291\n"
     ]
    },
    {
     "name": "stderr",
     "output_type": "stream",
     "text": [
      " 31%|███▏      | 11/35 [04:35<10:02, 25.10s/it]"
     ]
    },
    {
     "name": "stdout",
     "output_type": "stream",
     "text": [
      "10 98.94224373996258 85.45129036616673\n"
     ]
    },
    {
     "name": "stderr",
     "output_type": "stream",
     "text": [
      " 34%|███▍      | 12/35 [05:00<09:37, 25.09s/it]"
     ]
    },
    {
     "name": "stdout",
     "output_type": "stream",
     "text": [
      "11 86.5477587133646 87.20780975543846\n"
     ]
    },
    {
     "name": "stderr",
     "output_type": "stream",
     "text": [
      " 37%|███▋      | 13/35 [05:26<09:12, 25.10s/it]"
     ]
    },
    {
     "name": "stdout",
     "output_type": "stream",
     "text": [
      "12 76.82843714952469 88.61640318875827\n"
     ]
    },
    {
     "name": "stderr",
     "output_type": "stream",
     "text": [
      " 40%|████      | 14/35 [05:51<08:47, 25.10s/it]"
     ]
    },
    {
     "name": "stdout",
     "output_type": "stream",
     "text": [
      "13 73.05782420933247 89.19402783407648\n"
     ]
    },
    {
     "name": "stderr",
     "output_type": "stream",
     "text": [
      " 43%|████▎     | 15/35 [06:16<08:22, 25.11s/it]"
     ]
    },
    {
     "name": "stdout",
     "output_type": "stream",
     "text": [
      "14 67.7667992413044 90.22429401432238\n"
     ]
    },
    {
     "name": "stderr",
     "output_type": "stream",
     "text": [
      " 46%|████▌     | 16/35 [06:41<07:56, 25.10s/it]"
     ]
    },
    {
     "name": "stdout",
     "output_type": "stream",
     "text": [
      "15 66.25187633931637 90.31549790568842\n"
     ]
    },
    {
     "name": "stderr",
     "output_type": "stream",
     "text": [
      " 49%|████▊     | 17/35 [07:06<07:31, 25.10s/it]"
     ]
    },
    {
     "name": "stdout",
     "output_type": "stream",
     "text": [
      "16 62.05482432991266 90.94041345764086\n"
     ]
    },
    {
     "name": "stderr",
     "output_type": "stream",
     "text": [
      " 51%|█████▏    | 18/35 [07:31<07:06, 25.11s/it]"
     ]
    },
    {
     "name": "stdout",
     "output_type": "stream",
     "text": [
      "17 60.61714334785938 91.1734900689096\n"
     ]
    },
    {
     "name": "stderr",
     "output_type": "stream",
     "text": [
      " 54%|█████▍    | 19/35 [07:56<06:41, 25.12s/it]"
     ]
    },
    {
     "name": "stdout",
     "output_type": "stream",
     "text": [
      "18 56.358771324157715 91.90649912174031\n"
     ]
    },
    {
     "name": "stderr",
     "output_type": "stream",
     "text": [
      " 57%|█████▋    | 20/35 [08:21<06:16, 25.13s/it]"
     ]
    },
    {
     "name": "stdout",
     "output_type": "stream",
     "text": [
      "19 56.39405445754528 91.74098094852047\n"
     ]
    },
    {
     "name": "stderr",
     "output_type": "stream",
     "text": [
      " 60%|██████    | 21/35 [08:47<05:51, 25.13s/it]"
     ]
    },
    {
     "name": "stdout",
     "output_type": "stream",
     "text": [
      "20 54.1497026309371 92.24429131198487\n"
     ]
    },
    {
     "name": "stderr",
     "output_type": "stream",
     "text": [
      " 63%|██████▎   | 22/35 [09:12<05:26, 25.13s/it]"
     ]
    },
    {
     "name": "stdout",
     "output_type": "stream",
     "text": [
      "21 53.04749298095703 92.19362248344818\n"
     ]
    },
    {
     "name": "stderr",
     "output_type": "stream",
     "text": [
      " 66%|██████▌   | 23/35 [09:37<05:01, 25.13s/it]"
     ]
    },
    {
     "name": "stdout",
     "output_type": "stream",
     "text": [
      "22 51.3238640204072 92.33211728144845\n"
     ]
    },
    {
     "name": "stderr",
     "output_type": "stream",
     "text": [
      " 69%|██████▊   | 24/35 [10:02<04:36, 25.14s/it]"
     ]
    },
    {
     "name": "stdout",
     "output_type": "stream",
     "text": [
      "23 51.45631558448076 92.5280367517903\n"
     ]
    },
    {
     "name": "stderr",
     "output_type": "stream",
     "text": [
      " 71%|███████▏  | 25/35 [10:27<04:11, 25.13s/it]"
     ]
    },
    {
     "name": "stdout",
     "output_type": "stream",
     "text": [
      "24 48.720477893948555 92.88947439535198\n"
     ]
    },
    {
     "name": "stderr",
     "output_type": "stream",
     "text": [
      " 74%|███████▍  | 26/35 [10:52<03:46, 25.13s/it]"
     ]
    },
    {
     "name": "stdout",
     "output_type": "stream",
     "text": [
      "25 48.38242529705167 93.01445750574247\n"
     ]
    },
    {
     "name": "stderr",
     "output_type": "stream",
     "text": [
      " 77%|███████▋  | 27/35 [11:17<03:20, 25.12s/it]"
     ]
    },
    {
     "name": "stdout",
     "output_type": "stream",
     "text": [
      "26 45.92185056209564 93.12255100662072\n"
     ]
    },
    {
     "name": "stderr",
     "output_type": "stream",
     "text": [
      " 80%|████████  | 28/35 [11:42<02:55, 25.12s/it]"
     ]
    },
    {
     "name": "stdout",
     "output_type": "stream",
     "text": [
      "27 46.3690400570631 93.2982029455479\n"
     ]
    },
    {
     "name": "stderr",
     "output_type": "stream",
     "text": [
      " 83%|████████▎ | 29/35 [12:08<02:30, 25.13s/it]"
     ]
    },
    {
     "name": "stdout",
     "output_type": "stream",
     "text": [
      "28 44.91548964381218 93.47385488447507\n"
     ]
    },
    {
     "name": "stderr",
     "output_type": "stream",
     "text": [
      " 86%|████████▌ | 30/35 [12:33<02:05, 25.13s/it]"
     ]
    },
    {
     "name": "stdout",
     "output_type": "stream",
     "text": [
      "29 45.061892949044704 93.44007566545062\n"
     ]
    },
    {
     "name": "stderr",
     "output_type": "stream",
     "text": [
      " 89%|████████▊ | 31/35 [12:58<01:40, 25.13s/it]"
     ]
    },
    {
     "name": "stdout",
     "output_type": "stream",
     "text": [
      "30 43.713078536093235 93.6461289014998\n"
     ]
    },
    {
     "name": "stderr",
     "output_type": "stream",
     "text": [
      " 91%|█████████▏| 32/35 [13:23<01:15, 25.12s/it]"
     ]
    },
    {
     "name": "stdout",
     "output_type": "stream",
     "text": [
      "31 43.556943383067846 93.49412241588975\n"
     ]
    },
    {
     "name": "stderr",
     "output_type": "stream",
     "text": [
      " 94%|█████████▍| 33/35 [13:48<00:50, 25.12s/it]"
     ]
    },
    {
     "name": "stdout",
     "output_type": "stream",
     "text": [
      "32 44.43915222585201 93.5279016349142\n"
     ]
    },
    {
     "name": "stderr",
     "output_type": "stream",
     "text": [
      " 97%|█████████▋| 34/35 [14:13<00:25, 25.12s/it]"
     ]
    },
    {
     "name": "stdout",
     "output_type": "stream",
     "text": [
      "33 42.525827910751104 93.90285096608567\n"
     ]
    },
    {
     "name": "stderr",
     "output_type": "stream",
     "text": [
      "100%|██████████| 35/35 [14:38<00:00, 25.11s/it]"
     ]
    },
    {
     "name": "stdout",
     "output_type": "stream",
     "text": [
      "34 42.52475183829665 93.81502499662207\n"
     ]
    },
    {
     "name": "stderr",
     "output_type": "stream",
     "text": [
      "\n"
     ]
    }
   ],
   "source": [
    "poison_multiclass_classifier_model = train_multiclass_classifier(dataset, predicted_poison_indices_final)"
   ]
  },
  {
   "cell_type": "code",
   "execution_count": 143,
   "metadata": {},
   "outputs": [
    {
     "name": "stdout",
     "output_type": "stream",
     "text": [
      "4722 \t 13548\n",
      "278 \t 31452\n",
      "Percentage of poisoned images (out of all poisoned) kept:  5.56%\n",
      "Percentage of clean images (out of all clean) kept:  69.89%\n",
      "Percentage of remaining poisoned images (out of all remaining):  0.88%\n"
     ]
    }
   ],
   "source": [
    "predicted_poison_indices_multiclass_reclassification = multiclass_reclassification(dataset, poison_multiclass_classifier_model, labels_poison)\n",
    "evaluate_cleanse(predicted_poison_indices_multiclass_reclassification, true_poison_indices)"
   ]
  },
  {
   "cell_type": "code",
   "execution_count": 144,
   "metadata": {},
   "outputs": [
    {
     "name": "stdout",
     "output_type": "stream",
     "text": [
      "---------------------------------------\n",
      "badnets train\n",
      "\n",
      "Non-disruptive cleanse: \n",
      "4666 \t 15406\n",
      "334 \t 29594\n",
      "Percentage of poisoned images (out of all poisoned) kept:  6.68%\n",
      "Percentage of clean images (out of all clean) kept:  65.76%\n",
      "Percentage of remaining poisoned images (out of all remaining):  1.12%\n",
      "\n",
      "Disruptive cleanse: \n",
      "0 \t 250\n",
      "5000 \t 44750\n",
      "Percentage of poisoned images (out of all poisoned) kept:  100.00%\n",
      "Percentage of clean images (out of all clean) kept:  99.44%\n",
      "Percentage of remaining poisoned images (out of all remaining):  10.05%\n",
      "\n",
      "Reclassify (binary) disruptive cleanse: \n",
      "2 \t 361\n",
      "4998 \t 44639\n",
      "Percentage of poisoned images (out of all poisoned) kept:  99.96%\n",
      "Percentage of clean images (out of all clean) kept:  99.20%\n",
      "Percentage of remaining poisoned images (out of all remaining):  10.07%\n",
      "\n",
      "Combined cleanse: \n",
      "4666 \t 15730\n",
      "334 \t 29270\n",
      "Percentage of poisoned images (out of all poisoned) kept:  6.68%\n",
      "Percentage of clean images (out of all clean) kept:  65.04%\n",
      "Percentage of remaining poisoned images (out of all remaining):  1.13%\n",
      "\n",
      "Reclassify (multiclass) combined cleanse: \n",
      "4722 \t 13548\n",
      "278 \t 31452\n",
      "Percentage of poisoned images (out of all poisoned) kept:  5.56%\n",
      "Percentage of clean images (out of all clean) kept:  69.89%\n",
      "Percentage of remaining poisoned images (out of all remaining):  0.88%\n",
      "---------------------------------------\n"
     ]
    }
   ],
   "source": [
    "# Final cleanse report\n",
    "print(\"---------------------------------------\")\n",
    "train_string = \"train\" if train else \"test\"\n",
    "print(f\"{dataset_name} {train_string}\")\n",
    "print(\"\\nNon-disruptive cleanse: \")\n",
    "evaluate_cleanse(predicted_poison_indices_nondisruptive, true_poison_indices)\n",
    "print(\"\\nDisruptive cleanse: \")\n",
    "evaluate_cleanse(predicted_poison_indices_disruptive, true_poison_indices)\n",
    "print(\"\\nReclassify (binary) disruptive cleanse: \")\n",
    "evaluate_cleanse(predicted_poison_indices_binary_reclassification, true_poison_indices)\n",
    "print(\"\\nCombined cleanse: \")\n",
    "evaluate_cleanse(predicted_poison_indices_final, true_poison_indices)\n",
    "print(\"\\nReclassify (multiclass) combined cleanse: \")\n",
    "evaluate_cleanse(predicted_poison_indices_multiclass_reclassification, true_poison_indices)\n",
    "print(\"---------------------------------------\")"
   ]
  }
 ],
 "metadata": {
  "kernelspec": {
   "display_name": "Python 3",
   "language": "python",
   "name": "python3"
  },
  "language_info": {
   "codemirror_mode": {
    "name": "ipython",
    "version": 3
   },
   "file_extension": ".py",
   "mimetype": "text/x-python",
   "name": "python",
   "nbconvert_exporter": "python",
   "pygments_lexer": "ipython3",
   "version": "3.11.4"
  }
 },
 "nbformat": 4,
 "nbformat_minor": 2
}
