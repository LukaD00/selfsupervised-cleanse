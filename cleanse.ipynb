{
 "cells": [
  {
   "cell_type": "code",
   "execution_count": 262,
   "metadata": {},
   "outputs": [],
   "source": [
    "import os\n",
    "\n",
    "from math import ceil, floor\n",
    "\n",
    "import copy\n",
    "\n",
    "import pickle\n",
    "\n",
    "import numpy as np\n",
    "\n",
    "from matplotlib import pyplot as plt\n",
    "\n",
    "import torch\n",
    "import torch.nn as nn\n",
    "import torchvision\n",
    "from torch.utils.data import DataLoader\n",
    "from torchvision.datasets.vision import VisionDataset\n",
    "\n",
    "from tqdm import tqdm\n",
    "\n",
    "from sklearn.manifold import TSNE\n",
    "\n",
    "from datasets import BadNetsDataset, WaNetDataset, SIGDataset\n",
    "from simclr import SimClrBackbone"
   ]
  },
  {
   "cell_type": "code",
   "execution_count": 263,
   "metadata": {},
   "outputs": [],
   "source": [
    "device = \"cuda\""
   ]
  },
  {
   "cell_type": "markdown",
   "metadata": {},
   "source": [
    "### Poison dataset"
   ]
  },
  {
   "cell_type": "code",
   "execution_count": 264,
   "metadata": {},
   "outputs": [],
   "source": [
    "def prepare_poison_dataset(dataset_name: str, train: bool) -> VisionDataset:\n",
    "    clean_dataset = torchvision.datasets.CIFAR10(root='C:/Datasets', train=train)\n",
    "\n",
    "    if dataset_name == \"badnets\":\n",
    "        poison_dataset = BadNetsDataset(clean_dataset, 1, \"triggers/trigger_10.png\", seed=1)\n",
    "    elif dataset_name == \"wanet\":\n",
    "        poison_dataset = WaNetDataset(clean_dataset, 0, seed=1)\n",
    "    elif dataset_name == \"sig\":\n",
    "        poison_dataset = SIGDataset(clean_dataset, 1, 20, 6, seed=1)\n",
    "    else:\n",
    "        raise Exception(\"Invalid dataset\")\n",
    "\n",
    "    poison_indices = np.array([poison_dataset.is_poison(i) for i in range(len(poison_dataset))])\n",
    "\n",
    "    return poison_dataset, poison_indices"
   ]
  },
  {
   "cell_type": "markdown",
   "metadata": {},
   "source": [
    "### Load SimCLR model"
   ]
  },
  {
   "cell_type": "code",
   "execution_count": 265,
   "metadata": {},
   "outputs": [],
   "source": [
    "def load_simclr(simclr_model_name: str) -> SimClrBackbone:\n",
    "    model = SimClrBackbone()\n",
    "    out = os.path.join('./saved_models/', simclr_model_name)\n",
    "    checkpoint = torch.load(out, map_location=device)\n",
    "    model.load_state_dict(checkpoint[\"model_state_dict\"])\n",
    "    model = model.to(device)\n",
    "    model.eval()\n",
    "    return model"
   ]
  },
  {
   "cell_type": "markdown",
   "metadata": {},
   "source": [
    "### Extract SimCLR features for all images"
   ]
  },
  {
   "cell_type": "code",
   "execution_count": 266,
   "metadata": {},
   "outputs": [],
   "source": [
    "def extract_simclr_features(model: SimClrBackbone, dataset: VisionDataset):\n",
    "\n",
    "    simclr_feature_size = 128\n",
    "    num_examples = len(dataset)\n",
    "\n",
    "    features = np.zeros((num_examples, simclr_feature_size))\n",
    "    labels_poison = np.zeros((num_examples))\n",
    "    labels_true = np.zeros((num_examples))\n",
    "\n",
    "    batch_size = 256\n",
    "    dataloader = DataLoader(dataset, batch_size=batch_size, shuffle=False, num_workers=0)\n",
    "    for i, (img, labels_batch_poison, labels_batch_true) in enumerate(dataloader):\n",
    "\n",
    "        with torch.no_grad():\n",
    "            features_batch = model(img.to(device)).cpu().data.numpy()\n",
    "            \n",
    "        features[i*batch_size : i*batch_size+len(features_batch)] = features_batch\n",
    "        labels_poison[i*batch_size : i*batch_size+len(labels_batch_poison)] = labels_batch_poison.long()\n",
    "        labels_true[i*batch_size : i*batch_size+len(labels_batch_true)] = labels_batch_true.long()\n",
    "\n",
    "    labels_poison = labels_poison.astype(int)\n",
    "    labels_true = labels_true.astype(int)\n",
    "\n",
    "    return features, labels_poison, labels_true"
   ]
  },
  {
   "cell_type": "markdown",
   "metadata": {},
   "source": [
    "### Plot t-SNE features"
   ]
  },
  {
   "cell_type": "code",
   "execution_count": 267,
   "metadata": {},
   "outputs": [],
   "source": [
    "def calculate_tsne_features(features: np.array, perplexity: int = 50) -> np.array:\n",
    "    tsne = TSNE(n_components = 2, perplexity = perplexity)\n",
    "    tsne_features = tsne.fit_transform(features)\n",
    "    return tsne_features\n",
    "\n",
    "def plot_tsne_features(tsne_features: np.array, labels: np.array, poison_indices: np.array, legend: bool = True) -> None:\n",
    "    num_classes = int(max(labels).item())\n",
    "\n",
    "    # label poison examples as 10\n",
    "    labels_10 = copy.deepcopy(labels)\n",
    "    labels_10[poison_indices] = 10\n",
    "\n",
    "    for i in range(num_classes):\n",
    "        plt.scatter(tsne_features[labels_10==i,1], tsne_features[labels_10==i,0])\n",
    "    plt.scatter(tsne_features[labels_10==10,1], tsne_features[labels_10==10,0], c = \"black\", marker= \"x\")\n",
    "\n",
    "    if legend:\n",
    "        plt.legend([str(i) for i in range(num_classes)] + [\"poison\"])\n",
    "    plt.show()\n",
    "\n",
    "\n",
    "def calculate_and_plot_tsne(features: np.array, labels: np.array, poison_indices: np.array, subset_size: int = None, legend: bool = True) -> np.array:\n",
    "    # Plot only a subset\n",
    "    if subset_size is None:\n",
    "        subset_size = len(features)\n",
    "    features_subset = features[:subset_size]\n",
    "    labels_subset = labels[:subset_size]\n",
    "    poison_indices_subset = poison_indices[:subset_size]\n",
    "    \n",
    "    tsne_features = calculate_tsne_features(features_subset)\n",
    "    plot_tsne_features(tsne_features, labels_subset, poison_indices_subset, legend=legend)\n",
    "    \n"
   ]
  },
  {
   "cell_type": "markdown",
   "metadata": {},
   "source": [
    "### Util functions for all cleanses"
   ]
  },
  {
   "cell_type": "code",
   "execution_count": 268,
   "metadata": {},
   "outputs": [],
   "source": [
    "def evaluate_cleanse(poison_predicted: np.array, poison_indices: np.array):\n",
    "\n",
    "    tp = (poison_indices & poison_predicted).sum()\n",
    "    fp = (np.invert(poison_indices) & poison_predicted).sum()\n",
    "    fn = (poison_indices & np.invert(poison_predicted)).sum()\n",
    "    tn = (np.invert(poison_indices) & np.invert(poison_predicted)).sum()\n",
    "\n",
    "    fnr = fn/(fn+tp) if fn+tp!=0 else 0\n",
    "    tnr = tn/(tn+fp) if tn+fp!=0 else 0\n",
    "    poison_rate = fn/(fn+tn) if fn+tn!=0 else 0\n",
    "\n",
    "    print(f\"{tp} \\t {fp}\")\n",
    "    print(f\"{fn} \\t {tn}\")\n",
    "    print(f\"Percentage of poisoned images (out of all poisoned) kept: {100*fnr: .2f}%\")\n",
    "    print(f\"Percentage of clean images (out of all clean) kept: {100*tnr: .2f}%\")\n",
    "    print(f\"Percentage of remaining poisoned images (out of all remaining): {100*poison_rate: .2f}%\")"
   ]
  },
  {
   "cell_type": "code",
   "execution_count": 269,
   "metadata": {},
   "outputs": [],
   "source": [
    "def save_predicted_labels(labels_predicted: np.array, save_name: str):\n",
    "    with open(f\"./cleansed_labels/{save_name}.pkl\", \"wb\") as f:\n",
    "        pickle.dump(labels_predicted, f)"
   ]
  },
  {
   "cell_type": "code",
   "execution_count": 270,
   "metadata": {},
   "outputs": [],
   "source": [
    "def plot_histogram_poisoned(values: np.array, poison_indices: np.array = None, is_integer: bool = False, bins_num: int = 100, separation_line: float = None) -> None:\n",
    "    if poison_indices is not None:\n",
    "        values_clean = values[np.invert(poison_indices)]\n",
    "        values_poisoned = values[poison_indices]\n",
    "    else:\n",
    "        values_clean = values[:]\n",
    "        values_poisoned = []\n",
    "\n",
    "    bins = np.linspace(floor(np.min(values)), ceil(np.max(values)), int(np.max(values)) if is_integer else bins_num)\n",
    "    plt.hist(values_clean, bins, alpha=0.5, label='clean')\n",
    "    plt.hist(values_poisoned, bins, alpha=0.5, label='poisoned')\n",
    "\n",
    "    if separation_line:\n",
    "        plt.axvline(separation_line, color='red', linestyle='dashed', linewidth=1)\n",
    "\n",
    "    plt.legend(loc='upper right')\n",
    "    plt.show()"
   ]
  },
  {
   "cell_type": "markdown",
   "metadata": {},
   "source": [
    "## Step 1: Non-disruptive cleanse"
   ]
  },
  {
   "cell_type": "markdown",
   "metadata": {},
   "source": [
    "### kNN"
   ]
  },
  {
   "cell_type": "code",
   "execution_count": 271,
   "metadata": {},
   "outputs": [],
   "source": [
    "from sklearn.neighbors import KNeighborsClassifier\n",
    "\n",
    "def knn_cleanse(features: np.array, labels_poison: np.array, num_classes: int) -> np.array:\n",
    "    \n",
    "    examples_per_class = len(features) / num_classes\n",
    "    knn = KNeighborsClassifier(n_neighbors=int(examples_per_class/2))\n",
    "    knn.fit(features, labels_poison)\n",
    "    labels_predicted = knn.predict(features)\n",
    "\n",
    "    return labels_predicted != labels_poison"
   ]
  },
  {
   "cell_type": "markdown",
   "metadata": {},
   "source": [
    "------------------------------------\n",
    "\n",
    "CIFAR-10 train \\\n",
    "BadNets \n",
    "\n",
    "    4905 \t 9481\n",
    "    95 \t 35519\n",
    "    Percentage of poisoned images (out of all poisoned) kept:  1.90%\n",
    "    Percentage of clean images (out of all clean) kept:  78.93%\n",
    "    Percentage of remaining poisoned images (out of all remaining):  0.27%\n",
    "\n",
    "CIFAR-10 test \\\n",
    "BadNets \n",
    "\n",
    "    960 \t 2056\n",
    "    40 \t 6944\n",
    "    Percentage of poisoned images (out of all poisoned) kept:  4.00%\n",
    "    Percentage of clean images (out of all clean) kept:  77.16%\n",
    "    Percentage of remaining poisoned images (out of all remaining):  0.57%\n",
    "\n",
    "------------------------------------\n",
    "\n",
    "CIFAR-10 train \\\n",
    "WaNet \n",
    "\n",
    "    3975 \t 14331\n",
    "    1025 \t 30669\n",
    "    Percentage of poisoned images (out of all poisoned) kept:  20.50%\n",
    "    Percentage of clean images (out of all clean) kept:  68.15%\n",
    "    Percentage of remaining poisoned images (out of all remaining):  3.23%\n",
    "\n",
    "CIFAR-10 test \\\n",
    "WaNet \n",
    "\n",
    "    712 \t 3058\n",
    "    288 \t 5942\n",
    "    Percentage of poisoned images (out of all poisoned) kept:  28.80%\n",
    "    Percentage of clean images (out of all clean) kept:  66.02%\n",
    "    Percentage of remaining poisoned images (out of all remaining):  4.62%\n",
    "\n",
    "------------------------------------\n",
    "\n",
    "CIFAR-10 train \\\n",
    "SIG\n",
    "\n",
    "    0 \t 9195\n",
    "    500 \t 40305\n",
    "    Percentage of poisoned images (out of all poisoned) kept:  100.00%\n",
    "    Percentage of clean images (out of all clean) kept:  81.42%\n",
    "    Percentage of remaining poisoned images (out of all remaining):  1.23%\n",
    "\n",
    "CIFAR-10 test \\\n",
    "SIG\n",
    "\n",
    "    0 \t 2179\n",
    "    100 \t 7721\n",
    "    Percentage of poisoned images (out of all poisoned) kept:  100.00%\n",
    "    Percentage of clean images (out of all clean) kept:  77.99%\n",
    "    Percentage of remaining poisoned images (out of all remaining):  1.28%\n"
   ]
  },
  {
   "cell_type": "markdown",
   "metadata": {},
   "source": [
    "### Energy"
   ]
  },
  {
   "cell_type": "code",
   "execution_count": 272,
   "metadata": {},
   "outputs": [],
   "source": [
    "class EnergyClassifier():\n",
    "\n",
    "    def __init__(self, t=1):\n",
    "        self.t = t\n",
    "\n",
    "    def fit(self, X, y):\n",
    "        self.X = X\n",
    "        self.y = y\n",
    "        \n",
    "        self.C = int(np.max(y))\n",
    "        self.Ic = {c:[i for i in range(len(y)) if y[i]==c] for c in range(self.C)}\n",
    "        \n",
    "    def predict_index(self, i):\n",
    "        # consider improving with numpy and batch\n",
    "\n",
    "        xi = self.X[i]\n",
    "\n",
    "        exp_all = np.exp([xi*self.X[k]/self.t for k in range(len(self.X))])\n",
    "        sum_exp_all_except_xi = np.sum([exp_all[k] for k in range(len(self.X)) if k!=i])\n",
    "        mean_exp_c = [np.mean([exp_all[k] for k in self.Ic[c] if k!=i]) for c in range(self.C)]\n",
    "    \n",
    "        Scs = mean_exp_c / sum_exp_all_except_xi\n",
    "        return np.argmax(Scs)\n",
    "\n",
    "    def predict(self):\n",
    "        predicted = np.zeros((len(self.X)))\n",
    "        for i in range(len(self.X)):\n",
    "            predicted[i] = self.predict_index(i)"
   ]
  },
  {
   "cell_type": "code",
   "execution_count": 273,
   "metadata": {},
   "outputs": [],
   "source": [
    "# TODO remove??\n",
    "\n",
    "# def energy_cleanse(features: np.array, labels_poison: np.array) -> np.array:\n",
    "    \n",
    "#     if DATASET == \"badnets\":\n",
    "#         T = 100\n",
    "#     elif DATASET == \"wanet\":\n",
    "#         T = 10\n",
    "#     elif DATASET == \"sig\":\n",
    "#         T = 1\n",
    "#     else:\n",
    "#         raise Exception(\"Invalid dataset\")\n",
    "\n",
    "#     energy = EnergyClassifier(t=T)\n",
    "#     energy.fit(features, labels_poison)\n",
    "#     labels_predicted = energy.predict()\n",
    "\n",
    "#     return labels_predicted\n",
    "\n",
    "# if RUN_ENERGY:\n",
    "#     labels_predicted_energy = energy_cleanse(features, labels_poison)\n",
    "#     evaluate_cleanse(labels_predicted_energy != labels_poison, poison_indices)\n",
    "\n",
    "#     save_name = f\"__NEW__{DATASET_NAME}-Energy-{'train' if TRAIN else 'test'}\"\n",
    "#     save_predicted_labels(labels_predicted_knn, save_name)"
   ]
  },
  {
   "cell_type": "markdown",
   "metadata": {},
   "source": [
    "CIFAR-10 train \\\n",
    "BadNets\n",
    "\n",
    "\t50000 / 50000\n",
    "\t\t4618 \t 12732\n",
    "\t\t382 \t 32268\n",
    "\tPercentage of poisoned images (out of all poisoned) kept:  7.64%\n",
    "\tPercentage of clean images (out of all clean) kept:  71.71%\n",
    "\tPercentage of remaining poisoned images (out of all remaining):  1.17%\n",
    "\n",
    "CIFAR-10 test \\\n",
    "BadNets\n",
    "\n",
    "\t10000 / 10000\n",
    "\t\t920 \t 2585\n",
    "\t\t80 \t 6415\n",
    "\tPercentage of poisoned images (out of all poisoned) kept:  8.00%\n",
    "\tPercentage of clean images (out of all clean) kept:  71.28%\n",
    "\tPercentage of remaining poisoned images (out of all remaining):  1.23%\n",
    "\n",
    "--------------------------------------------------------------------------------\n",
    "\n",
    "CIFAR-10 train \\\n",
    "WaNet\n",
    "\n",
    "\t50000 / 50000\n",
    "\t\t4725 \t 14096\n",
    "\t\t275 \t 30904\n",
    "\tPercentage of poisoned images (out of all poisoned) kept:  5.50%\n",
    "\tPercentage of clean images (out of all clean) kept:  68.68%\n",
    "\tPercentage of remaining poisoned images (out of all remaining):  0.88%\n",
    "\n",
    "CIFAR-10 test \\\n",
    "WaNet\n",
    "\n",
    "\t10000 / 10000\n",
    "\t\t951 \t 2851\n",
    "\t\t49 \t 6149\n",
    "\tPercentage of poisoned images (out of all poisoned) kept:  4.90%\n",
    "\tPercentage of clean images (out of all clean) kept:  68.32%\n",
    "\tPercentage of remaining poisoned images (out of all remaining):  0.79%\n",
    "\n",
    "--------------------------------------------------------------------------------\n",
    "\n",
    "CIFAR-10 train \\\n",
    "SIG\n",
    "\n",
    "\t50000 / 50000\n",
    "\t\t2 \t 15777\n",
    "\t\t498 \t 33723\n",
    "\tPercentage of poisoned images (out of all poisoned) kept:  99.60%\n",
    "\tPercentage of clean images (out of all clean) kept:  68.13%\n",
    "\tPercentage of remaining poisoned images (out of all remaining):  1.46%"
   ]
  },
  {
   "cell_type": "markdown",
   "metadata": {},
   "source": [
    "### LogReg "
   ]
  },
  {
   "cell_type": "code",
   "execution_count": 274,
   "metadata": {},
   "outputs": [],
   "source": [
    "# TODO cleanup, delete?"
   ]
  },
  {
   "cell_type": "code",
   "execution_count": 275,
   "metadata": {},
   "outputs": [],
   "source": [
    "class LogReg(nn.Module):\n",
    "    def __init__(self, n_inputs, n_outputs):\n",
    "        super(LogReg, self).__init__()\n",
    "        self.linear = torch.nn.Linear(n_inputs, n_outputs)\n",
    "    def forward(self, x):\n",
    "        return torch.softmax(self.linear(x), dim=1)"
   ]
  },
  {
   "cell_type": "code",
   "execution_count": 276,
   "metadata": {},
   "outputs": [],
   "source": [
    "class SimClrFeaturesDataset(VisionDataset):\n",
    "    def __init__(self, features, labels):\n",
    "        self.features = features\n",
    "        self.labels = labels\n",
    "    def __getitem__(self, index):\n",
    "        return self.features[index], self.labels[index]\n",
    "    def __len__(self):\n",
    "        return len(self.features)"
   ]
  },
  {
   "cell_type": "code",
   "execution_count": 277,
   "metadata": {},
   "outputs": [],
   "source": [
    "# if RUN_LOGREG:\n",
    "    \n",
    "#     BATCH_SIZE = 1024\n",
    "#     NUM_MODELS = 10\n",
    "#     EPOCHS = 60\n",
    "\n",
    "#     classifications = np.zeros((NUM_MODELS, len(features)))\n",
    "\n",
    "#     for num_model in range(NUM_MODELS):\n",
    "#         print(f\"Learning logistic regression model {num_model+1}/{NUM_MODELS}\")\n",
    "#         simclr_features_dataset = SimClrFeaturesDataset(features, labels_poison)\n",
    "#         dataloader = DataLoader(dataset=simclr_features_dataset, batch_size=BATCH_SIZE, shuffle=True) \n",
    "#         model = LogReg(128, 10)\n",
    "#         optimizer = torch.optim.SGD(model.parameters(), lr=0.01, weight_decay=1e-1)\n",
    "#         criterion = torch.nn.CrossEntropyLoss()\n",
    "        \n",
    "#         # train\n",
    "#         for epoch in range(EPOCHS):\n",
    "#             correct = 0\n",
    "#             for i, (batch_features, batch_labels) in enumerate(dataloader):\n",
    "#                 batch_features, batch_labels = batch_features.float(), batch_labels.long()\n",
    "\n",
    "#                 optimizer.zero_grad()\n",
    "#                 outputs = model(batch_features)\n",
    "#                 loss = criterion(outputs, batch_labels)\n",
    "#                 loss.backward()\n",
    "#                 optimizer.step()\n",
    "#                 _, predicted = torch.max(outputs.data, 1)\n",
    "#                 correct += (predicted == batch_labels).sum()\n",
    "#             accuracy = 100 * (correct.item()) / len(simclr_features_dataset)\n",
    "#         print(f\"Accuracy: {accuracy}\")\n",
    "\n",
    "#         # get model classifications\n",
    "#         dataloader = DataLoader(dataset=simclr_features_dataset, batch_size=BATCH_SIZE, shuffle=False) \n",
    "#         for i, (batch_features, batch_labels) in enumerate(dataloader):\n",
    "#             batch_features, batch_labels = batch_features.float(), batch_labels.long()\n",
    "\n",
    "#             outputs = model(batch_features)\n",
    "#             _, predicted = torch.max(outputs.data, 1)\n",
    "#             predicted = predicted.numpy()\n",
    "#             classifications[num_model, (i*BATCH_SIZE):(i*BATCH_SIZE+len(predicted))] = predicted\n"
   ]
  },
  {
   "cell_type": "code",
   "execution_count": 278,
   "metadata": {},
   "outputs": [],
   "source": [
    "# if RUN_LOGREG:\n",
    "\n",
    "#     labels_poison_repeated = np.tile(labels_poison, (NUM_MODELS,1))\n",
    "#     misclassifications = np.sum(classifications != labels_poison_repeated, axis=0)\n",
    "\n",
    "#     misclassifications_poisoned = misclassifications[poison_indices]\n",
    "#     misclassifications_clean = misclassifications[np.invert(poison_indices)]\n",
    "\n",
    "#     # print(misclassifications_poisoned.shape)\n",
    "#     # print(misclassifications_clean.shape)\n",
    "\n",
    "#     # print(np.average(misclassifications_poisoned))\n",
    "#     # print(np.average(misclassifications_clean))\n",
    "\n",
    "#     bins = np.linspace(0, np.max(misclassifications), np.max(misclassifications))\n",
    "#     plt.hist(misclassifications_clean, bins, alpha=0.5, label='clean')\n",
    "#     plt.hist(misclassifications_poisoned, bins, alpha=0.5, label='poisoned')\n",
    "#     plt.legend(loc='upper right')\n",
    "#     plt.show()"
   ]
  },
  {
   "cell_type": "code",
   "execution_count": 279,
   "metadata": {},
   "outputs": [],
   "source": [
    "# if RUN_LOGREG:\n",
    "\n",
    "#     class_num = 1\n",
    "\n",
    "#     misclassifications_class = misclassifications[labels_poison == class_num]\n",
    "#     misclassifications_class_poisoned = misclassifications[np.logical_and(labels_poison == class_num, poison_indices)]\n",
    "#     misclassifications_class_clean = misclassifications[np.logical_and(labels_poison == class_num, np.invert(poison_indices))]\n",
    "\n",
    "#     print((labels_poison == class_num & np.invert(poison_indices)).shape)\n",
    "#     print(misclassifications_class.shape)\n",
    "#     print(misclassifications_class_poisoned.shape)\n",
    "#     print(misclassifications_class_clean.shape)\n",
    "\n",
    "#     bins = np.linspace(0, np.max(misclassifications_class), np.max(misclassifications_class))\n",
    "#     plt.hist(misclassifications_class_clean, bins, alpha=0.5, label='clean')\n",
    "#     plt.hist(misclassifications_class_poisoned, bins, alpha=0.5, label='poisoned')\n",
    "#     plt.legend(loc='upper right')\n",
    "#     plt.show()"
   ]
  },
  {
   "cell_type": "markdown",
   "metadata": {},
   "source": [
    "## Disruptive detection"
   ]
  },
  {
   "cell_type": "markdown",
   "metadata": {},
   "source": [
    "### Centroid"
   ]
  },
  {
   "cell_type": "code",
   "execution_count": 280,
   "metadata": {},
   "outputs": [],
   "source": [
    "def centroid_cleanse(features: np.array, poison_indices: np.array) -> np.array:\n",
    "    centroid = np.sum(features, axis=0) / features.shape[0]\n",
    "    distances = np.linalg.norm(features - centroid, axis=1)\n",
    "    \n",
    "    plot_histogram_poisoned(distances, poison_indices)"
   ]
  },
  {
   "cell_type": "markdown",
   "metadata": {},
   "source": [
    "### Gauss "
   ]
  },
  {
   "cell_type": "code",
   "execution_count": 281,
   "metadata": {},
   "outputs": [],
   "source": [
    "from scipy.stats import multivariate_normal\n",
    "\n",
    "def gauss_cleanse(features: np.array, discard_percentage: float, poison_indices: np.array = None) -> np.array:\n",
    "    mean = np.mean(features, axis=0)\n",
    "    cov = np.cov(features, rowvar=0)\n",
    "\n",
    "    probabilities = multivariate_normal.pdf(features, mean=mean, cov=cov, allow_singular=True)\n",
    "    probabilities[probabilities <= 0] = 1e-100\n",
    "    probabilities = -np.log(probabilities)\n",
    "\n",
    "    discard_line = np.percentile(probabilities, (1-discard_percentage)*100)\n",
    "    plot_histogram_poisoned(probabilities, poison_indices, separation_line=discard_line)\n",
    "\n",
    "    predicted_poison_indices = probabilities > discard_line\n",
    "    return predicted_poison_indices"
   ]
  },
  {
   "cell_type": "markdown",
   "metadata": {},
   "source": [
    "## Poison reclassification"
   ]
  },
  {
   "cell_type": "code",
   "execution_count": 282,
   "metadata": {},
   "outputs": [],
   "source": [
    "class PoisonClassificationDataset(VisionDataset):\n",
    "\n",
    "    def __init__(self, original_dataset: VisionDataset, poison_indices: np.array) -> None:\n",
    "        self.original_dataset = original_dataset\n",
    "        self.poison_indices = poison_indices\n",
    "\n",
    "    def __len__(self) -> int:\n",
    "        return len(self.original_dataset)\n",
    "    \n",
    "    def __getitem__(self, index: int):\n",
    "        return self.original_dataset[index][0], torch.tensor(self.poison_indices[index])"
   ]
  },
  {
   "cell_type": "markdown",
   "metadata": {},
   "source": [
    "### Weak binary classifier "
   ]
  },
  {
   "cell_type": "code",
   "execution_count": 283,
   "metadata": {},
   "outputs": [],
   "source": [
    "import torch.nn as nn\n",
    "from torch.utils.data import WeightedRandomSampler\n",
    "\n",
    "class ConvolutionalBinaryClassifier(nn.Module):\n",
    "    def __init__(self):\n",
    "        super().__init__()\n",
    "        self.layers = nn.Sequential(\n",
    "            nn.Conv2d(3, 16, kernel_size=5, stride=1, padding=2, bias=True),\n",
    "            nn.ReLU(),\n",
    "            nn.MaxPool2d(kernel_size=3, stride=2),\n",
    "            nn.Conv2d(16, 32, kernel_size=5, stride=1, padding=2, bias=True),\n",
    "            nn.ReLU(),\n",
    "            nn.MaxPool2d(kernel_size=3, stride=2),\n",
    "            nn.Flatten(),\n",
    "            nn.Linear(1568, 256),\n",
    "            nn.ReLU(),\n",
    "            nn.Linear(256, 128),\n",
    "            nn.ReLU(),\n",
    "            nn.Linear(128, 1),\n",
    "            nn.Sigmoid()\n",
    "        )\n",
    "\n",
    "    def forward(self, x) -> torch.tensor:\n",
    "        return self.layers(x)\n",
    "\n",
    "def train_binary_classifier(dataset: VisionDataset, predicted_poison_indices: np.array) -> nn.Module:\n",
    "    poison_classification_dataset = PoisonClassificationDataset(dataset, predicted_poison_indices)\n",
    "    # sampler for class imbalance\n",
    "    positives = sum([1 for _, target in poison_classification_dataset if target==1])\n",
    "    total = len(poison_classification_dataset)\n",
    "    positive_weight = 0.5 / positives\n",
    "    negative_weight = 0.5 / (total - positives)\n",
    "    weights = [positive_weight if target==1 else negative_weight for _, target in poison_classification_dataset]\n",
    "    sampler = WeightedRandomSampler(weights, len(weights))\n",
    "\n",
    "    dataloader = DataLoader(poison_classification_dataset, batch_size=128, sampler=sampler)\n",
    "    model = ConvolutionalBinaryClassifier().to(device)\n",
    "    criterion = nn.BCELoss()\n",
    "    optimizer = torch.optim.Adam(model.parameters(), lr=3e-4, weight_decay=1e-4)\n",
    "    scheduler = torch.optim.lr_scheduler.ExponentialLR(optimizer, gamma=1-1e-4)\n",
    "    num_epochs = 10\n",
    "\n",
    "    for _ in tqdm(range(num_epochs)):\n",
    "        for _, (inputs, targets) in enumerate(dataloader):\n",
    "            inputs, targets = inputs.to(device), targets.to(device).float()\n",
    "            optimizer.zero_grad()\n",
    "            logits = model.forward(inputs).squeeze(-1)\n",
    "            loss = criterion(logits, targets)\n",
    "            loss.backward()\n",
    "            optimizer.step()\n",
    "        scheduler.step()\n",
    "\n",
    "    return model\n",
    "\n",
    "def binary_reclassification(dataset: VisionDataset, model: nn.Module):\n",
    "    predicted_poison_indices = np.zeros((len(dataset)))\n",
    "    batch_size = 128\n",
    "    dataloader = DataLoader(dataset, batch_size=batch_size, shuffle=False)\n",
    "    for i, (inputs, _, _) in enumerate(dataloader):\n",
    "        inputs = inputs.to(device)\n",
    "        with torch.no_grad():\n",
    "            logits = model.forward(inputs).squeeze(-1)\n",
    "            predictions = (logits>0.5).cpu().numpy()\n",
    "        predicted_poison_indices[i*batch_size : i*batch_size+len(predictions)] = predictions\n",
    "    return predicted_poison_indices==1\n",
    "        \n"
   ]
  },
  {
   "cell_type": "markdown",
   "metadata": {},
   "source": [
    "# Final cleanse pipeline"
   ]
  },
  {
   "cell_type": "code",
   "execution_count": 284,
   "metadata": {},
   "outputs": [
    {
     "name": "stderr",
     "output_type": "stream",
     "text": [
      "c:\\Users\\Luka\\AppData\\Local\\Programs\\Python\\Python311\\Lib\\site-packages\\torchvision\\models\\_utils.py:208: UserWarning: The parameter 'pretrained' is deprecated since 0.13 and may be removed in the future, please use 'weights' instead.\n",
      "  warnings.warn(\n",
      "c:\\Users\\Luka\\AppData\\Local\\Programs\\Python\\Python311\\Lib\\site-packages\\torchvision\\models\\_utils.py:223: UserWarning: Arguments other than a weight enum or `None` for 'weights' are deprecated since 0.13 and may be removed in the future. The current behavior is equivalent to passing `weights=ResNet18_Weights.IMAGENET1K_V1`. You can also use `weights=ResNet18_Weights.DEFAULT` to get the most up-to-date weights.\n",
      "  warnings.warn(msg)\n"
     ]
    }
   ],
   "source": [
    "device = \"cuda\"\n",
    "\n",
    "dataset_name = \"wanet\"\n",
    "\n",
    "train = True\n",
    "simclr_model_name = f\"{dataset_name}-SimCLR.pt\"\n",
    "\n",
    "dataset, true_poison_indices = prepare_poison_dataset(dataset_name, train)\n",
    "simclr = load_simclr(simclr_model_name)\n",
    "features, labels_poison, labels_true = extract_simclr_features(simclr, dataset)\n",
    "num_classes = int(max(labels_poison).item())"
   ]
  },
  {
   "cell_type": "code",
   "execution_count": 285,
   "metadata": {},
   "outputs": [],
   "source": [
    "# Hiperparameters\n",
    "\n",
    "gauss_discard = 0.005\n",
    "tsne_perplexity = len(dataset) / 100"
   ]
  },
  {
   "cell_type": "code",
   "execution_count": 286,
   "metadata": {},
   "outputs": [
    {
     "data": {
      "image/png": "[encoded data removed]",
      "text/plain": [
       "<Figure size 640x480 with 1 Axes>"
      ]
     },
     "metadata": {},
     "output_type": "display_data"
    }
   ],
   "source": [
    "tsne_features = calculate_tsne_features(features, perplexity=tsne_perplexity)\n",
    "plot_tsne_features(tsne_features, labels_poison, true_poison_indices, legend=False)"
   ]
  },
  {
   "cell_type": "code",
   "execution_count": 287,
   "metadata": {},
   "outputs": [
    {
     "name": "stdout",
     "output_type": "stream",
     "text": [
      "3989 \t 14154\n",
      "1011 \t 30846\n",
      "Percentage of poisoned images (out of all poisoned) kept:  20.22%\n",
      "Percentage of clean images (out of all clean) kept:  68.55%\n",
      "Percentage of remaining poisoned images (out of all remaining):  3.17%\n"
     ]
    }
   ],
   "source": [
    "# Nondisruptive cleanse\n",
    "predicted_poison_indices_nondisruptive = knn_cleanse(features, labels_poison, num_classes)\n",
    "evaluate_cleanse(predicted_poison_indices_nondisruptive, true_poison_indices)"
   ]
  },
  {
   "cell_type": "code",
   "execution_count": 288,
   "metadata": {},
   "outputs": [
    {
     "data": {
      "image/png": "[encoded data removed]",
      "text/plain": [
       "<Figure size 640x480 with 1 Axes>"
      ]
     },
     "metadata": {},
     "output_type": "display_data"
    },
    {
     "name": "stdout",
     "output_type": "stream",
     "text": [
      "45 \t 205\n",
      "4955 \t 44795\n",
      "Percentage of poisoned images (out of all poisoned) kept:  99.10%\n",
      "Percentage of clean images (out of all clean) kept:  99.54%\n",
      "Percentage of remaining poisoned images (out of all remaining):  9.96%\n"
     ]
    }
   ],
   "source": [
    "# Disruptive cleanse\n",
    "predicted_poison_indices_disruptive = gauss_cleanse(tsne_features, gauss_discard, poison_indices=true_poison_indices)\n",
    "evaluate_cleanse(predicted_poison_indices_disruptive, true_poison_indices)"
   ]
  },
  {
   "cell_type": "code",
   "execution_count": 289,
   "metadata": {},
   "outputs": [
    {
     "name": "stderr",
     "output_type": "stream",
     "text": [
      "C:\\Users\\Luka\\AppData\\Local\\Temp\\ipykernel_17168\\2447615426.py:11: DeprecationWarning: In future, it will be an error for 'np.bool_' scalars to be interpreted as an index\n",
      "  return self.original_dataset[index][0], torch.tensor(self.poison_indices[index])\n",
      "100%|██████████| 10/10 [02:47<00:00, 16.79s/it]\n"
     ]
    },
    {
     "name": "stdout",
     "output_type": "stream",
     "text": [
      "67 \t 372\n",
      "4933 \t 44628\n",
      "Percentage of poisoned images (out of all poisoned) kept:  98.66%\n",
      "Percentage of clean images (out of all clean) kept:  99.17%\n",
      "Percentage of remaining poisoned images (out of all remaining):  9.95%\n"
     ]
    }
   ],
   "source": [
    "# Disruptive cleanse reclassification\n",
    "\n",
    "poison_classifier_model = train_binary_classifier(dataset, predicted_poison_indices_disruptive)\n",
    "predicted_poison_indices_reclassification = binary_reclassification(dataset, poison_classifier_model)\n",
    "evaluate_cleanse(predicted_poison_indices_reclassification, true_poison_indices)"
   ]
  },
  {
   "cell_type": "code",
   "execution_count": 290,
   "metadata": {},
   "outputs": [],
   "source": [
    "# Combine cleanses\n",
    "\n",
    "predicted_poison_indices_final = predicted_poison_indices_nondisruptive | predicted_poison_indices_reclassification"
   ]
  },
  {
   "cell_type": "code",
   "execution_count": 291,
   "metadata": {},
   "outputs": [
    {
     "name": "stdout",
     "output_type": "stream",
     "text": [
      "---------------------------------------\n",
      "wanet train\n",
      "\n",
      "Non-disruptive cleanse: \n",
      "3989 \t 14154\n",
      "1011 \t 30846\n",
      "Percentage of poisoned images (out of all poisoned) kept:  20.22%\n",
      "Percentage of clean images (out of all clean) kept:  68.55%\n",
      "Percentage of remaining poisoned images (out of all remaining):  3.17%\n",
      "\n",
      "Disruptive cleanse: \n",
      "45 \t 205\n",
      "4955 \t 44795\n",
      "Percentage of poisoned images (out of all poisoned) kept:  99.10%\n",
      "Percentage of clean images (out of all clean) kept:  99.54%\n",
      "Percentage of remaining poisoned images (out of all remaining):  9.96%\n",
      "\n",
      "Reclassify disruptive cleanse: \n",
      "67 \t 372\n",
      "4933 \t 44628\n",
      "Percentage of poisoned images (out of all poisoned) kept:  98.66%\n",
      "Percentage of clean images (out of all clean) kept:  99.17%\n",
      "Percentage of remaining poisoned images (out of all remaining):  9.95%\n",
      "\n",
      "Final cleanse: \n",
      "3991 \t 14503\n",
      "1009 \t 30497\n",
      "Percentage of poisoned images (out of all poisoned) kept:  20.18%\n",
      "Percentage of clean images (out of all clean) kept:  67.77%\n",
      "Percentage of remaining poisoned images (out of all remaining):  3.20%\n",
      "---------------------------------------\n"
     ]
    }
   ],
   "source": [
    "# Final cleanse report\n",
    "print(\"---------------------------------------\")\n",
    "train_string = \"train\" if train else \"test\"\n",
    "print(f\"{dataset_name} {train_string}\")\n",
    "print(\"\\nNon-disruptive cleanse: \")\n",
    "evaluate_cleanse(predicted_poison_indices_nondisruptive, true_poison_indices)\n",
    "print(\"\\nDisruptive cleanse: \")\n",
    "evaluate_cleanse(predicted_poison_indices_disruptive, true_poison_indices)\n",
    "print(\"\\nReclassify disruptive cleanse: \")\n",
    "evaluate_cleanse(predicted_poison_indices_reclassification, true_poison_indices)\n",
    "print(\"\\nFinal cleanse: \")\n",
    "evaluate_cleanse(predicted_poison_indices_final, true_poison_indices)\n",
    "print(\"---------------------------------------\")"
   ]
  }
 ],
 "metadata": {
  "kernelspec": {
   "display_name": "Python 3",
   "language": "python",
   "name": "python3"
  },
  "language_info": {
   "codemirror_mode": {
    "name": "ipython",
    "version": 3
   },
   "file_extension": ".py",
   "mimetype": "text/x-python",
   "name": "python",
   "nbconvert_exporter": "python",
   "pygments_lexer": "ipython3",
   "version": "3.11.4"
  }
 },
 "nbformat": 4,
 "nbformat_minor": 2
}
