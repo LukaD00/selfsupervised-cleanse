{
 "cells": [
  {
   "cell_type": "code",
   "execution_count": 107,
   "metadata": {},
   "outputs": [],
   "source": [
    "import os\n",
    "\n",
    "import pickle\n",
    "\n",
    "import numpy as np\n",
    "\n",
    "from matplotlib import pyplot as plt\n",
    "\n",
    "import torch\n",
    "import torch.nn as nn\n",
    "import torchvision\n",
    "from torch.utils.data import DataLoader\n",
    "from torchvision.datasets.vision import VisionDataset\n",
    "\n",
    "from sklearn.manifold import TSNE\n",
    "\n",
    "from datasets import BadNetsDataset, WaNetDataset, SIGDataset\n",
    "from simclr import SimClrBackbone\n",
    "\n"
   ]
  },
  {
   "cell_type": "code",
   "execution_count": 108,
   "metadata": {},
   "outputs": [],
   "source": [
    "device = \"cuda\""
   ]
  },
  {
   "cell_type": "code",
   "execution_count": 109,
   "metadata": {},
   "outputs": [],
   "source": [
    "RUN_TSNE = False\n",
    "RUN_KNN = True\n",
    "RUN_ENERGY = False\n",
    "RUN_LOGREG = False\n",
    "\n",
    "SIMCLR_MODEL_NAME = \"WaNet-SimCLR.pt\"\n",
    "\n",
    "DATASET = \"wanet\"\n",
    "TRAIN = False\n",
    "\n",
    "if DATASET == \"badnets\":\n",
    "    TARGET_CLASS = 1\n",
    "    DATASET_NAME = \"BadNets\"\n",
    "elif DATASET == \"wanet\":\n",
    "    TARGET_CLASS = 0\n",
    "    DATASET_NAME = \"WaNet\"\n",
    "elif DATASET == \"sig\":\n",
    "    TARGET_CLASS = 1\n",
    "    DATASET_NAME = \"SIG\"\n",
    "# add option for clean\n",
    "else:\n",
    "    raise Exception(\"Invalid dataset\")"
   ]
  },
  {
   "cell_type": "markdown",
   "metadata": {},
   "source": [
    "## Poison dataset"
   ]
  },
  {
   "cell_type": "code",
   "execution_count": 110,
   "metadata": {},
   "outputs": [],
   "source": [
    "def prepare_poison_dataset() -> VisionDataset:\n",
    "    clean_dataset = torchvision.datasets.CIFAR10(root='C:/Datasets', train=TRAIN)\n",
    "\n",
    "    if DATASET == \"badnets\":\n",
    "        poison_dataset = BadNetsDataset(clean_dataset, TARGET_CLASS, \"triggers/trigger_10.png\", seed=1)\n",
    "    elif DATASET == \"wanet\":\n",
    "        poison_dataset = WaNetDataset(clean_dataset, TARGET_CLASS, seed=1)\n",
    "    elif DATASET == \"sig\":\n",
    "        poison_dataset = SIGDataset(clean_dataset, TARGET_CLASS, 20, 6, seed=1)\n",
    "    else:\n",
    "        raise Exception(\"Invalid dataset\")\n",
    "\n",
    "    poison_indices = np.array([poison_dataset.is_poison(i) for i in range(len(poison_dataset))])\n",
    "\n",
    "    return poison_dataset, poison_indices\n",
    "\n",
    "dataset, poison_indices = prepare_poison_dataset()\n",
    "batch_size = 256\n",
    "dataloader = DataLoader(dataset, batch_size=batch_size, shuffle=False, num_workers=0)"
   ]
  },
  {
   "cell_type": "markdown",
   "metadata": {},
   "source": [
    "## Load SimCLR model"
   ]
  },
  {
   "cell_type": "code",
   "execution_count": 111,
   "metadata": {},
   "outputs": [
    {
     "name": "stderr",
     "output_type": "stream",
     "text": [
      "c:\\Users\\Luka\\AppData\\Local\\Programs\\Python\\Python311\\Lib\\site-packages\\torchvision\\models\\_utils.py:208: UserWarning: The parameter 'pretrained' is deprecated since 0.13 and may be removed in the future, please use 'weights' instead.\n",
      "  warnings.warn(\n",
      "c:\\Users\\Luka\\AppData\\Local\\Programs\\Python\\Python311\\Lib\\site-packages\\torchvision\\models\\_utils.py:223: UserWarning: Arguments other than a weight enum or `None` for 'weights' are deprecated since 0.13 and may be removed in the future. The current behavior is equivalent to passing `weights=ResNet18_Weights.IMAGENET1K_V1`. You can also use `weights=ResNet18_Weights.DEFAULT` to get the most up-to-date weights.\n",
      "  warnings.warn(msg)\n"
     ]
    }
   ],
   "source": [
    "def load_model(simclr_model_name: str) -> SimClrBackbone:\n",
    "    model = SimClrBackbone()\n",
    "    out = os.path.join('./saved_models/', simclr_model_name)\n",
    "    checkpoint = torch.load(out, map_location=device)\n",
    "    model.load_state_dict(checkpoint[\"model_state_dict\"])\n",
    "    model = model.to(device)\n",
    "    model.eval()\n",
    "    return model\n",
    "\n",
    "model = load_model(SIMCLR_MODEL_NAME)"
   ]
  },
  {
   "cell_type": "markdown",
   "metadata": {},
   "source": [
    "## Extract features for all images"
   ]
  },
  {
   "cell_type": "code",
   "execution_count": 112,
   "metadata": {},
   "outputs": [],
   "source": [
    "def extract_simclr_features(model: SimClrBackbone, dataset: VisionDataset):\n",
    "\n",
    "    simclr_feature_size = 128\n",
    "    num_examples = len(dataset)\n",
    "\n",
    "    features = np.zeros((num_examples, simclr_feature_size))\n",
    "    labels_poison = np.zeros((num_examples))\n",
    "    labels_true = np.zeros((num_examples))\n",
    "\n",
    "    for i, (img, labels_batch_poison, labels_batch_true) in enumerate(dataloader):\n",
    "\n",
    "        with torch.no_grad():\n",
    "            features_batch = model(img.to(device)).cpu().data.numpy()\n",
    "            \n",
    "        features[i*batch_size : i*batch_size+len(features_batch)] = features_batch\n",
    "        labels_poison[i*batch_size : i*batch_size+len(labels_batch_poison)] = labels_batch_poison.long()\n",
    "        labels_true[i*batch_size : i*batch_size+len(labels_batch_true)] = labels_batch_true.long()\n",
    "\n",
    "    labels_poison = labels_poison.astype(int)\n",
    "    labels_true = labels_poison.astype(int)\n",
    "\n",
    "    return features, labels_poison, labels_true\n",
    "\n",
    "features, labels_poison, labels_true = extract_simclr_features(model, dataset)\n",
    "num_classes = int(max(labels_poison).item())"
   ]
  },
  {
   "cell_type": "markdown",
   "metadata": {},
   "source": [
    "## Plot t-SNE features"
   ]
  },
  {
   "cell_type": "code",
   "execution_count": 113,
   "metadata": {},
   "outputs": [],
   "source": [
    "def plot_tsne(features: np.array, labels: np.array, poison_indices: np.array, subset_size: int = 10000) -> None:\n",
    "    # label poison examples as 10\n",
    "    labels = labels[:]\n",
    "    labels[poison_indices] = 10\n",
    "\n",
    "    # Plot only a subset\n",
    "    features_subset = features[:subset_size]\n",
    "    labels_subset = labels[:subset_size]\n",
    "        \n",
    "    tsne = TSNE(n_components = 2, perplexity = 50)\n",
    "    tsne_features = tsne.fit_transform(features_subset)\n",
    "\n",
    "    for i in range(num_classes):\n",
    "        plt.scatter(tsne_features[labels_subset==i,1], tsne_features[labels_subset==i,0])\n",
    "    plt.scatter(tsne_features[labels_subset==10,1], tsne_features[labels_subset==10,0], c = \"black\", marker= \"x\")\n",
    "\n",
    "    plt.legend([str(i) for i in range(num_classes)] + [\"poison\"])\n",
    "    plt.show()\n",
    "\n",
    "\n",
    "if RUN_TSNE:\n",
    "    plot_tsne(features, labels_poison, poison_indices)"
   ]
  },
  {
   "cell_type": "markdown",
   "metadata": {},
   "source": [
    "## kNN clean"
   ]
  },
  {
   "cell_type": "code",
   "execution_count": 114,
   "metadata": {},
   "outputs": [],
   "source": [
    "def evaluate_cleanse(labels_predicted: np.array, labels_poison: np.array, poison_indices: np.array):\n",
    "    poison_predicted = labels_predicted != labels_poison\n",
    "\n",
    "    tp = (poison_indices & poison_predicted).sum()\n",
    "    fp = (np.invert(poison_indices) & poison_predicted).sum()\n",
    "    fn = (poison_indices & np.invert(poison_predicted)).sum()\n",
    "    tn = (np.invert(poison_indices) & np.invert(poison_predicted)).sum()\n",
    "\n",
    "    fnr = fn/(fn+tp) if fn+tp!=0 else 0\n",
    "    tnr = tn/(tn+fp) if tn+fp!=0 else 0\n",
    "    poison_rate = fn/(fn+tn) if fn+tn!=0 else 0\n",
    "\n",
    "    print(f\"{tp} \\t {fp}\")\n",
    "    print(f\"{fn} \\t {tn}\")\n",
    "    print()\n",
    "    print(f\"Percentage of poisoned images (out of all poisoned) kept: {100*fnr: .2f}%\")\n",
    "    print(f\"Percentage of clean images (out of all clean) kept: {100*tnr: .2f}%\")\n",
    "    print(f\"Percentage of remaining poisoned images (out of all remaining): {100*poison_rate: .2f}%\")\n",
    "\n",
    "def save_predicted_labels(labels_predicted: np.array, save_name: str):\n",
    "    with open(f\"./cleansed_labels/{save_name}.pkl\", \"wb\") as f:\n",
    "        pickle.dump(labels_predicted, f)"
   ]
  },
  {
   "cell_type": "code",
   "execution_count": 115,
   "metadata": {},
   "outputs": [
    {
     "name": "stdout",
     "output_type": "stream",
     "text": [
      "695 \t 3116\n",
      "305 \t 5884\n",
      "\n",
      "Percentage of poisoned images (out of all poisoned) kept:  30.50%\n",
      "Percentage of clean images (out of all clean) kept:  65.38%\n",
      "Percentage of remaining poisoned images (out of all remaining):  4.93%\n"
     ]
    }
   ],
   "source": [
    "from sklearn.neighbors import KNeighborsClassifier\n",
    "\n",
    "def knn_cleanse(features: np.array, labels_poison: np.array, num_classes: int) -> np.array:\n",
    "    \n",
    "    examples_per_class = len(features) / num_classes\n",
    "    knn = KNeighborsClassifier(n_neighbors=int(examples_per_class/2))\n",
    "    knn.fit(features, labels_poison)\n",
    "    labels_predicted = knn.predict(features)\n",
    "\n",
    "    return labels_predicted\n",
    "\n",
    "if RUN_KNN:\n",
    "    labels_predicted_knn = knn_cleanse(features, labels_poison, num_classes)\n",
    "    evaluate_cleanse(labels_predicted_knn, labels_poison, poison_indices)\n",
    "\n",
    "    save_name = f\"__NEW__{DATASET_NAME}-kNN-{'train' if TRAIN else 'test'}\"\n",
    "    save_predicted_labels(labels_predicted_knn, save_name)"
   ]
  },
  {
   "cell_type": "markdown",
   "metadata": {},
   "source": [
    "------------------------------------\n",
    "\n",
    "CIFAR-10 train \\\n",
    "BadNets \n",
    "\n",
    "    4905 \t 9481\n",
    "    95 \t 35519\n",
    "    Percentage of poisoned images (out of all poisoned) kept:  1.90%\n",
    "    Percentage of clean images (out of all clean) kept:  78.93%\n",
    "    Percentage of remaining poisoned images (out of all remaining):  0.27%\n",
    "\n",
    "CIFAR-10 test \\\n",
    "BadNets \n",
    "\n",
    "    960 \t 2056\n",
    "    40 \t 6944\n",
    "    Percentage of poisoned images (out of all poisoned) kept:  4.00%\n",
    "    Percentage of clean images (out of all clean) kept:  77.16%\n",
    "    Percentage of remaining poisoned images (out of all remaining):  0.57%\n",
    "\n",
    "------------------------------------\n",
    "\n",
    "CIFAR-10 train \\\n",
    "WaNet \n",
    "\n",
    "    3975 \t 14331\n",
    "    1025 \t 30669\n",
    "    Percentage of poisoned images (out of all poisoned) kept:  20.50%\n",
    "    Percentage of clean images (out of all clean) kept:  68.15%\n",
    "    Percentage of remaining poisoned images (out of all remaining):  3.23%\n",
    "\n",
    "CIFAR-10 test \\\n",
    "WaNet \n",
    "\n",
    "    712 \t 3058\n",
    "    288 \t 5942\n",
    "    Percentage of poisoned images (out of all poisoned) kept:  28.80%\n",
    "    Percentage of clean images (out of all clean) kept:  66.02%\n",
    "    Percentage of remaining poisoned images (out of all remaining):  4.62%\n",
    "\n",
    "------------------------------------\n",
    "\n",
    "CIFAR-10 test \\\n",
    "SIG\n",
    "\n",
    "    0 \t 9195\n",
    "    500 \t 40305\n",
    "    Percentage of poisoned images (out of all poisoned) kept:  100.00%\n",
    "    Percentage of clean images (out of all clean) kept:  81.42%\n",
    "    Percentage of remaining poisoned images (out of all remaining):  1.23%"
   ]
  },
  {
   "cell_type": "markdown",
   "metadata": {},
   "source": [
    "## Energy clean"
   ]
  },
  {
   "cell_type": "code",
   "execution_count": 117,
   "metadata": {},
   "outputs": [],
   "source": [
    "class EnergyClassifier():\n",
    "\n",
    "    def __init__(self, t=1):\n",
    "        self.t = t\n",
    "\n",
    "    def fit(self, X, y):\n",
    "        self.X = X\n",
    "        self.y = y\n",
    "        \n",
    "        self.C = int(np.max(y))\n",
    "        self.Ic = {c:[i for i in range(len(y)) if y[i]==c] for c in range(self.C)}\n",
    "        \n",
    "    def predict_index(self, i):\n",
    "\n",
    "        # consider improving with numpy\n",
    "\n",
    "        xi = self.X[i]\n",
    "\n",
    "        exp_all = np.exp([xi*self.X[k]/self.t for k in range(len(self.X))])\n",
    "        sum_exp_all_except_xi = np.sum([exp_all[k] for k in range(len(self.X)) if k!=i])\n",
    "        mean_exp_c = [np.mean([exp_all[k] for k in self.Ic[c] if k!=i]) for c in range(self.C)]\n",
    "    \n",
    "        Scs = mean_exp_c / sum_exp_all_except_xi\n",
    "        return np.argmax(Scs)\n",
    "\n",
    "if DATASET == \"badnets\":\n",
    "    T = 100\n",
    "elif DATASET == \"wanet\":\n",
    "    T = 10\n",
    "elif DATASET == \"sig\":\n",
    "    T = 1\n",
    "else:\n",
    "    raise Exception(\"Invalid dataset\")\n",
    "\n",
    "if RUN_ENERGY:\n",
    "    energy = EnergyClassifier(t=T)\n",
    "    energy.fit(features, labels_poison)"
   ]
  },
  {
   "cell_type": "code",
   "execution_count": 118,
   "metadata": {},
   "outputs": [],
   "source": [
    "if RUN_ENERGY:\n",
    "    tp = 0\n",
    "    fp = 0\n",
    "    tn = 0\n",
    "    fn = 0\n",
    "\n",
    "    predicted_labels = []\n",
    "\n",
    "    for i in range(len(dataset)):\n",
    "        poison_label = labels_poison[i]\n",
    "        true_label = labels_true[i]\n",
    "        predicted_label = energy.predict_index(i)\n",
    "\n",
    "        predicted_labels.append(predicted_label)\n",
    "\n",
    "        true_poison = poison_dataset.is_poison(i)\n",
    "        predicted_poison = poison_label != predicted_label\n",
    "\n",
    "        if true_poison and predicted_poison:\n",
    "            tp += 1\n",
    "        elif not true_poison and predicted_poison:\n",
    "            fp += 1\n",
    "        elif true_poison and not predicted_poison:\n",
    "            fn += 1\n",
    "        else:\n",
    "            tn += 1\n",
    "\n",
    "        if i % 100 == 0:\n",
    "            clear_output(wait=True)\n",
    "            print(f\"{i} / {len(dataset)}\")\n",
    "            print(f\"\\t {tp} \\t {fp}\")\n",
    "            print(f\"\\t {fn} \\t {tn}\")\n",
    "\n",
    "            fnr = fn/(fn+tp) if fn+tp!=0 else 0\n",
    "            tnr = tn/(tn+fp) if tn+fp!=0 else 0\n",
    "            poison_rate = fn/(fn+tn) if fn+tn!=0 else 0\n",
    "            print(f\"Percentage of poisoned images (out of all poisoned) kept: {100*fnr: .2f}%\")\n",
    "            print(f\"Percentage of clean images (out of all clean) kept: {100*tnr: .2f}%\")\n",
    "            print(f\"Percentage of remaining poisoned images (out of all remaining): {100*poison_rate: .2f}%\")\n",
    "\n",
    "\n",
    "    clear_output(wait=True)\n",
    "    print(f\"{len(dataset)} / {len(dataset)}\")\n",
    "    print(f\"\\t {tp} \\t {fp}\")\n",
    "    print(f\"\\t {fn} \\t {tn}\")\n",
    "\n",
    "    fnr = fn/(fn+tp) if fn+tp!=0 else 0\n",
    "    tnr = tn/(tn+fp) if tn+fp!=0 else 0\n",
    "    poison_rate = fn/(fn+tn) if fn+tn!=0 else 0\n",
    "    print(f\"Percentage of poisoned images (out of all poisoned) kept: {100*fnr: .2f}%\")\n",
    "    print(f\"Percentage of clean images (out of all clean) kept: {100*tnr: .2f}%\")\n",
    "    print(f\"Percentage of remaining poisoned images (out of all remaining): {100*poison_rate: .2f}%\")"
   ]
  },
  {
   "cell_type": "markdown",
   "metadata": {},
   "source": [
    "CIFAR-10 train \\\n",
    "BadNets\n",
    "\n",
    "\t50000 / 50000\n",
    "\t\t4618 \t 12732\n",
    "\t\t382 \t 32268\n",
    "\tPercentage of poisoned images (out of all poisoned) kept:  7.64%\n",
    "\tPercentage of clean images (out of all clean) kept:  71.71%\n",
    "\tPercentage of remaining poisoned images (out of all remaining):  1.17%\n",
    "\n",
    "CIFAR-10 test \\\n",
    "BadNets\n",
    "\n",
    "\t10000 / 10000\n",
    "\t\t920 \t 2585\n",
    "\t\t80 \t 6415\n",
    "\tPercentage of poisoned images (out of all poisoned) kept:  8.00%\n",
    "\tPercentage of clean images (out of all clean) kept:  71.28%\n",
    "\tPercentage of remaining poisoned images (out of all remaining):  1.23%\n",
    "\n",
    "--------------------------------------------------------------------------------\n",
    "\n",
    "CIFAR-10 train \\\n",
    "WaNet\n",
    "\n",
    "\t50000 / 50000\n",
    "\t\t4725 \t 14096\n",
    "\t\t275 \t 30904\n",
    "\tPercentage of poisoned images (out of all poisoned) kept:  5.50%\n",
    "\tPercentage of clean images (out of all clean) kept:  68.68%\n",
    "\tPercentage of remaining poisoned images (out of all remaining):  0.88%\n",
    "\n",
    "CIFAR-10 test \\\n",
    "WaNet\n",
    "\n",
    "\t10000 / 10000\n",
    "\t\t951 \t 2851\n",
    "\t\t49 \t 6149\n",
    "\tPercentage of poisoned images (out of all poisoned) kept:  4.90%\n",
    "\tPercentage of clean images (out of all clean) kept:  68.32%\n",
    "\tPercentage of remaining poisoned images (out of all remaining):  0.79%\n",
    "\n",
    "--------------------------------------------------------------------------------\n",
    "\n",
    "CIFAR-10 train \\\n",
    "SIG\n",
    "\n",
    "\t50000 / 50000\n",
    "\t\t2 \t 15777\n",
    "\t\t498 \t 33723\n",
    "\tPercentage of poisoned images (out of all poisoned) kept:  99.60%\n",
    "\tPercentage of clean images (out of all clean) kept:  68.13%\n",
    "\tPercentage of remaining poisoned images (out of all remaining):  1.46%"
   ]
  },
  {
   "cell_type": "code",
   "execution_count": 119,
   "metadata": {},
   "outputs": [],
   "source": [
    "if RUN_ENERGY:\n",
    "\n",
    "    save_name = f\"__NEW__{DATASET_NAME}-Energy-{'train' if TRAIN else 'test'}\"\n",
    "\n",
    "    with open(f\"./cleansed_labels/{save_name}.pkl\", \"wb\") as f:\n",
    "        pickle.dump(predicted_labels, f)"
   ]
  },
  {
   "cell_type": "markdown",
   "metadata": {},
   "source": [
    "## LogReg clean"
   ]
  },
  {
   "cell_type": "code",
   "execution_count": 120,
   "metadata": {},
   "outputs": [],
   "source": [
    "class LogReg(nn.Module):\n",
    "    def __init__(self, n_inputs, n_outputs):\n",
    "        super(LogReg, self).__init__()\n",
    "        self.linear = torch.nn.Linear(n_inputs, n_outputs)\n",
    "    def forward(self, x):\n",
    "        return torch.softmax(self.linear(x), dim=1)"
   ]
  },
  {
   "cell_type": "code",
   "execution_count": 121,
   "metadata": {},
   "outputs": [],
   "source": [
    "class SimClrFeaturesDataset(VisionDataset):\n",
    "    def __init__(self, features, labels):\n",
    "        self.features = features\n",
    "        self.labels = labels\n",
    "    def __getitem__(self, index):\n",
    "        return self.features[index], self.labels[index]\n",
    "    def __len__(self):\n",
    "        return len(self.features)"
   ]
  },
  {
   "cell_type": "code",
   "execution_count": 122,
   "metadata": {},
   "outputs": [],
   "source": [
    "if RUN_LOGREG:\n",
    "    \n",
    "    BATCH_SIZE = 1024\n",
    "    NUM_MODELS = 10\n",
    "    EPOCHS = 60\n",
    "\n",
    "    classifications = np.zeros((NUM_MODELS, len(features)))\n",
    "\n",
    "    for num_model in range(NUM_MODELS):\n",
    "        print(f\"Learning logistic regression model {num_model+1}/{NUM_MODELS}\")\n",
    "        simclr_features_dataset = SimClrFeaturesDataset(features, labels_poison)\n",
    "        dataloader = DataLoader(dataset=simclr_features_dataset, batch_size=BATCH_SIZE, shuffle=True) \n",
    "        model = LogReg(128, 10)\n",
    "        optimizer = torch.optim.SGD(model.parameters(), lr=0.01, weight_decay=1e-1)\n",
    "        criterion = torch.nn.CrossEntropyLoss()\n",
    "        \n",
    "        # train\n",
    "        for epoch in range(EPOCHS):\n",
    "            correct = 0\n",
    "            for i, (batch_features, batch_labels) in enumerate(dataloader):\n",
    "                batch_features, batch_labels = batch_features.float(), batch_labels.long()\n",
    "\n",
    "                optimizer.zero_grad()\n",
    "                outputs = model(batch_features)\n",
    "                loss = criterion(outputs, batch_labels)\n",
    "                loss.backward()\n",
    "                optimizer.step()\n",
    "                _, predicted = torch.max(outputs.data, 1)\n",
    "                correct += (predicted == batch_labels).sum()\n",
    "            accuracy = 100 * (correct.item()) / len(simclr_features_dataset)\n",
    "        print(f\"Accuracy: {accuracy}\")\n",
    "\n",
    "        # get model classifications\n",
    "        dataloader = DataLoader(dataset=simclr_features_dataset, batch_size=BATCH_SIZE, shuffle=False) \n",
    "        for i, (batch_features, batch_labels) in enumerate(dataloader):\n",
    "            batch_features, batch_labels = batch_features.float(), batch_labels.long()\n",
    "\n",
    "            outputs = model(batch_features)\n",
    "            _, predicted = torch.max(outputs.data, 1)\n",
    "            predicted = predicted.numpy()\n",
    "            classifications[num_model, (i*BATCH_SIZE):(i*BATCH_SIZE+len(predicted))] = predicted\n"
   ]
  },
  {
   "cell_type": "code",
   "execution_count": 123,
   "metadata": {},
   "outputs": [
    {
     "ename": "NameError",
     "evalue": "name 'NUM_MODELS' is not defined",
     "output_type": "error",
     "traceback": [
      "\u001b[1;31m---------------------------------------------------------------------------\u001b[0m",
      "\u001b[1;31mNameError\u001b[0m                                 Traceback (most recent call last)",
      "Cell \u001b[1;32mIn[123], line 1\u001b[0m\n\u001b[1;32m----> 1\u001b[0m labels_poison_repeated \u001b[38;5;241m=\u001b[39m np\u001b[38;5;241m.\u001b[39mtile(labels_poison, (\u001b[43mNUM_MODELS\u001b[49m,\u001b[38;5;241m1\u001b[39m))\n\u001b[0;32m      2\u001b[0m misclassifications \u001b[38;5;241m=\u001b[39m np\u001b[38;5;241m.\u001b[39msum(classifications \u001b[38;5;241m!=\u001b[39m labels_poison_repeated, axis\u001b[38;5;241m=\u001b[39m\u001b[38;5;241m0\u001b[39m)\n\u001b[0;32m      4\u001b[0m poisoned_vector \u001b[38;5;241m=\u001b[39m np\u001b[38;5;241m.\u001b[39marray([poison_dataset\u001b[38;5;241m.\u001b[39mis_poison(i) \u001b[38;5;28;01mfor\u001b[39;00m i \u001b[38;5;129;01min\u001b[39;00m \u001b[38;5;28mrange\u001b[39m(\u001b[38;5;28mlen\u001b[39m(labels_poison))])\n",
      "\u001b[1;31mNameError\u001b[0m: name 'NUM_MODELS' is not defined"
     ]
    }
   ],
   "source": [
    "labels_poison_repeated = np.tile(labels_poison, (NUM_MODELS,1))\n",
    "misclassifications = np.sum(classifications != labels_poison_repeated, axis=0)\n",
    "\n",
    "poisoned_vector = np.array([poison_dataset.is_poison(i) for i in range(len(labels_poison))])\n",
    "\n",
    "misclassifications_poisoned = misclassifications[poisoned_vector]\n",
    "misclassifications_clean = misclassifications[np.invert(poisoned_vector)]\n",
    "\n",
    "# print(misclassifications_poisoned.shape)\n",
    "# print(misclassifications_clean.shape)\n",
    "\n",
    "# print(np.average(misclassifications_poisoned))\n",
    "# print(np.average(misclassifications_clean))\n",
    "\n",
    "bins = np.linspace(0, np.max(misclassifications), np.max(misclassifications))\n",
    "plt.hist(misclassifications_clean, bins, alpha=0.5, label='clean')\n",
    "plt.hist(misclassifications_poisoned, bins, alpha=0.5, label='poisoned')\n",
    "plt.legend(loc='upper right')\n",
    "plt.show()"
   ]
  },
  {
   "cell_type": "code",
   "execution_count": null,
   "metadata": {},
   "outputs": [
    {
     "name": "stdout",
     "output_type": "stream",
     "text": [
      "(50000,)\n",
      "(5000,)\n",
      "(500,)\n",
      "(4500,)\n"
     ]
    },
    {
     "data": {
      "image/png": "[encoded data removed]",
      "text/plain": [
       "<Figure size 640x480 with 1 Axes>"
      ]
     },
     "metadata": {},
     "output_type": "display_data"
    }
   ],
   "source": [
    "class_num = 1\n",
    "\n",
    "misclassifications_class = misclassifications[labels_poison == class_num]\n",
    "misclassifications_class_poisoned = misclassifications[np.logical_and(labels_poison == class_num, poisoned_vector)]\n",
    "misclassifications_class_clean = misclassifications[np.logical_and(labels_poison == class_num, np.invert(poisoned_vector))]\n",
    "\n",
    "print((labels_poison == class_num & np.invert(poisoned_vector)).shape)\n",
    "print(misclassifications_class.shape)\n",
    "print(misclassifications_class_poisoned.shape)\n",
    "print(misclassifications_class_clean.shape)\n",
    "\n",
    "bins = np.linspace(0, np.max(misclassifications_class), np.max(misclassifications_class))\n",
    "plt.hist(misclassifications_class_clean, bins, alpha=0.5, label='clean')\n",
    "plt.hist(misclassifications_class_poisoned, bins, alpha=0.5, label='poisoned')\n",
    "plt.legend(loc='upper right')\n",
    "plt.show()"
   ]
  },
  {
   "cell_type": "code",
   "execution_count": null,
   "metadata": {},
   "outputs": [
    {
     "ename": "NameError",
     "evalue": "name 'KNeighborsClassifier' is not defined",
     "output_type": "error",
     "traceback": [
      "\u001b[1;31m---------------------------------------------------------------------------\u001b[0m",
      "\u001b[1;31mNameError\u001b[0m                                 Traceback (most recent call last)",
      "Cell \u001b[1;32mIn[87], line 10\u001b[0m\n\u001b[0;32m      8\u001b[0m _, predicted \u001b[38;5;241m=\u001b[39m torch\u001b[38;5;241m.\u001b[39mmax(outputs\u001b[38;5;241m.\u001b[39mdata, \u001b[38;5;241m1\u001b[39m)\n\u001b[0;32m      9\u001b[0m predicted \u001b[38;5;241m=\u001b[39m predicted\u001b[38;5;241m.\u001b[39mdetach()\u001b[38;5;241m.\u001b[39mnumpy()\n\u001b[1;32m---> 10\u001b[0m background_model \u001b[38;5;241m=\u001b[39m \u001b[43mKNeighborsClassifier\u001b[49m(n_neighbors\u001b[38;5;241m=\u001b[39m\u001b[38;5;241m1\u001b[39m)\u001b[38;5;241m.\u001b[39mfit(tsne_features, predicted) \n\u001b[0;32m     11\u001b[0m voronoiBackground \u001b[38;5;241m=\u001b[39m background_model\u001b[38;5;241m.\u001b[39mpredict(np\u001b[38;5;241m.\u001b[39mc_[xx\u001b[38;5;241m.\u001b[39mravel(), yy\u001b[38;5;241m.\u001b[39mravel()])\n\u001b[0;32m     12\u001b[0m voronoiBackground \u001b[38;5;241m=\u001b[39m voronoiBackground\u001b[38;5;241m.\u001b[39mreshape((resolution, resolution))\n",
      "\u001b[1;31mNameError\u001b[0m: name 'KNeighborsClassifier' is not defined"
     ]
    }
   ],
   "source": [
    "resolution = 100 # 100x100 background pixels\n",
    "X2d_xmin, X2d_xmax = np.min(tsne_features[:,0]), np.max(tsne_features[:,0])\n",
    "X2d_ymin, X2d_ymax = np.min(tsne_features[:,1]), np.max(tsne_features[:,1])\n",
    "xx, yy = np.meshgrid(np.linspace(X2d_xmin, X2d_xmax, resolution), np.linspace(X2d_ymin, X2d_ymax, resolution))\n",
    "\n",
    "# approximate Voronoi tesselation on resolution x resolution grid using 1-NN\n",
    "outputs = model(torch.tensor(features_subset).float())\n",
    "_, predicted = torch.max(outputs.data, 1)\n",
    "predicted = predicted.detach().numpy()\n",
    "background_model = KNeighborsClassifier(n_neighbors=1).fit(tsne_features, predicted) \n",
    "voronoiBackground = background_model.predict(np.c_[xx.ravel(), yy.ravel()])\n",
    "voronoiBackground = voronoiBackground.reshape((resolution, resolution))\n",
    "\n",
    "#plot\n",
    "import matplotlib.colors\n",
    "norm = matplotlib.colors.Normalize(vmin=0,vmax=10)\n",
    "\n",
    "plt.contourf(xx, yy, voronoiBackground, norm=norm, cmap =\"jet\")\n",
    "#plt.scatter(tsne_features[:,0], tsne_features[:,1], c=predicted, norm=norm, cmap =\"jet\")\n",
    "plt.show()"
   ]
  }
 ],
 "metadata": {
  "kernelspec": {
   "display_name": "Python 3",
   "language": "python",
   "name": "python3"
  },
  "language_info": {
   "codemirror_mode": {
    "name": "ipython",
    "version": 3
   },
   "file_extension": ".py",
   "mimetype": "text/x-python",
   "name": "python",
   "nbconvert_exporter": "python",
   "pygments_lexer": "ipython3",
   "version": "3.11.4"
  }
 },
 "nbformat": 4,
 "nbformat_minor": 2
}
